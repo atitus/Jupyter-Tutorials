{
 "cells": [
  {
   "cell_type": "markdown",
   "metadata": {},
   "source": [
    "# Teaching Professional Computational Modeling Skills with Jupyter\n",
    "\n",
    "## Aaron Titus, High Point University\n"
   ]
  },
  {
   "cell_type": "markdown",
   "metadata": {},
   "source": [
    "# Introduction\n"
   ]
  },
  {
   "cell_type": "markdown",
   "metadata": {},
   "source": [
    "The purpose of this tutorial is to introduce you to Jupyter Notebook. \n",
    "\n",
    "Jupyter Notebook (formerly called iPython Notebook) is a web application (front-end) to create and share documents that contain live code, visualizations, and marked-up text and equations. Teachers can write tutorials, and students can write professional, interactive reports. Accessible to students and scalable to professionals, Jupyter Notebook is ideal for teaching computational modeling, data visualization, collaborative computing, and reporting."
   ]
  },
  {
   "cell_type": "markdown",
   "metadata": {},
   "source": [
    "# Sharing Your Notebook"
   ]
  },
  {
   "cell_type": "markdown",
   "metadata": {
    "collapsed": true
   },
   "source": [
    "You can download your notebook and share it, whether pdf or html or another format. Go to **File->Download As** and select a file format, as shown below. To share your notebook file, including source code, select the *ipynb* file.\n",
    "\n",
    "![download](downloadex.png)"
   ]
  },
  {
   "cell_type": "markdown",
   "metadata": {},
   "source": [
    "Download your file as an IPython Notebook (.ipynb)"
   ]
  },
  {
   "cell_type": "markdown",
   "metadata": {},
   "source": [
    "## Gist"
   ]
  },
  {
   "cell_type": "markdown",
   "metadata": {},
   "source": [
    "Go to [gist.github.com](http://gist.github.com/).  Drag your notebook file into the window, and click on either **Create secret gist** or **Create public gist**.  Note that either way, secret or public, your file will be public!  The **Create secret gist** button merely means that another person cannot find it using a search engine."
   ]
  },
  {
   "cell_type": "markdown",
   "metadata": {},
   "source": [
    "## nbviewer"
   ]
  },
  {
   "cell_type": "markdown",
   "metadata": {},
   "source": [
    "The GitHub website created a url for your notebook.  Copy the URL and paste it into [nbviewer](http://nbviewer.ipython.org/). This generates a public URL for sharing a downloadable notebook."
   ]
  },
  {
   "cell_type": "markdown",
   "metadata": {
    "collapsed": true
   },
   "source": [
    "## Trinket"
   ]
  },
  {
   "cell_type": "markdown",
   "metadata": {},
   "source": [
    "At [Trinket.io](https://trinket.io/), you can create your own \"course.\"  Drag and drop your ipynb file into a page in your course. Trinket automatically embeds the file "
   ]
  },
  {
   "cell_type": "markdown",
   "metadata": {},
   "source": [
    "## Binder\n",
    "\n",
    "At [mybinder.org](http://mybinder.org/), you can run a Jupyter notebook on a cloud server without installing it locally. You upload a github repository with notebooks. Here are some examples:\n",
    "\n",
    "- [Jupyter VPython demos](http://mybinder.org/repo/BruceSherwood/vpython-jupyter)\n",
    "- [TIDES Project](http://mybinder.org/repo/BrynMawrCollege/TIDES)"
   ]
  },
  {
   "cell_type": "code",
   "execution_count": null,
   "metadata": {
    "collapsed": true
   },
   "outputs": [],
   "source": []
  }
 ],
 "metadata": {
  "kernelspec": {
   "display_name": "Python [conda root]",
   "language": "python",
   "name": "conda-root-py"
  },
  "language_info": {
   "codemirror_mode": {
    "name": "ipython",
    "version": 3
   },
   "file_extension": ".py",
   "mimetype": "text/x-python",
   "name": "python",
   "nbconvert_exporter": "python",
   "pygments_lexer": "ipython3",
   "version": "3.5.2"
  }
 },
 "nbformat": 4,
 "nbformat_minor": 0
}
