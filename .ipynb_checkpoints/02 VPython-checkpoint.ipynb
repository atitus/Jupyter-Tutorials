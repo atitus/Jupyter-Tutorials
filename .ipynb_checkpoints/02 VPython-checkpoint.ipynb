{
 "cells": [
  {
   "cell_type": "markdown",
   "metadata": {},
   "source": [
    "# Teaching Professional Computational Modeling Skills with Jupyter\n",
    "\n",
    "## Aaron Titus, High Point University\n"
   ]
  },
  {
   "cell_type": "markdown",
   "metadata": {},
   "source": [
    "# Introduction\n"
   ]
  },
  {
   "cell_type": "markdown",
   "metadata": {},
   "source": [
    "The purpose of this tutorial is to introduce you to Jupyter Notebook. \n",
    "\n",
    "Jupyter Notebook (formerly called iPython Notebook) is a web application (front-end) to create and share documents that contain live code, visualizations, and marked-up text and equations. Teachers can write tutorials, and students can write professional, interactive reports. Accessible to students and scalable to professionals, Jupyter Notebook is ideal for teaching computational modeling, data visualization, collaborative computing, and reporting."
   ]
  },
  {
   "cell_type": "markdown",
   "metadata": {},
   "source": [
    "# VPython"
   ]
  },
  {
   "cell_type": "markdown",
   "metadata": {},
   "source": [
    "[VPython](http://vpython.org/) is a Python package to teach computational modeling in an introductory physics course.  [Jupyter VPython](https://github.com/BruceSherwood/vpython-jupyter) is based on iVisual by John Coady and is developed by Bruce Sherwood and Ruth Chabay. \n",
    "\n",
    "You can also run VPython in a browser using [GlowScript](http://www.glowscript.org/). A blog post by Bruce Sherwood gives the [history of VPython](https://matterandinteractions.wordpress.com/2016/04/27/a-time-line-for-vpython-development/) and recognizes a number of important contributors."
   ]
  },
  {
   "cell_type": "markdown",
   "metadata": {},
   "source": [
    "## Documentation and Examples"
   ]
  },
  {
   "cell_type": "markdown",
   "metadata": {},
   "source": [
    "For complete VPython documentation, go to [glowscript.org](http://www.glowscript.org/docs/VPythonDocs/index.html).\n",
    "\n",
    "GlowScript is a web-based application for writing and running VPython. It uses Google authentication, so it requires a gmail account. Jupyter is a general editor that includes stylized text, mathematical markup, and live code. It works with all Python packages (that have been installed on the server). GlowScript is exclusively for writing and running VPython and is recommended for first-time VPython programmers.\n",
    "\n",
    "You can view [my publicly available VPython programs on GlowScript](http://www.glowscript.org/#/user/Aaron_Titus/folder/My_Programs/) to see more examples."
   ]
  },
  {
   "cell_type": "markdown",
   "metadata": {},
   "source": [
    "## Import Packages"
   ]
  },
  {
   "cell_type": "markdown",
   "metadata": {},
   "source": [
    "Frequently you will import packages that provide additional codebase essential for mathematical and scientific applications. In this case, we want to use the `math` package and `vpython` package. To make sure our code runs the same in Python 3 and Python 2.7, we will also import `division` and `print_function` from the `__future__` package.\n",
    "\n",
    "**Every notebook that uses VPython should start with the following import statements. Note that ``future`` is preceded and followed by two consecutive underscores that may appear as a single long underscore.**"
   ]
  },
  {
   "cell_type": "code",
   "execution_count": 1,
   "metadata": {
    "collapsed": false
   },
   "outputs": [
    {
     "data": {
      "application/javascript": [
       "require.undef(\"nbextensions/vpython_libraries/glow.min\");"
      ],
      "text/plain": [
       "<IPython.core.display.Javascript object>"
      ]
     },
     "metadata": {},
     "output_type": "display_data"
    },
    {
     "data": {
      "application/javascript": [
       "require.undef(\"nbextensions/vpython_libraries/glowcomm\");"
      ],
      "text/plain": [
       "<IPython.core.display.Javascript object>"
      ]
     },
     "metadata": {},
     "output_type": "display_data"
    },
    {
     "data": {
      "application/javascript": [
       "require.undef(\"nbextensions/vpython_libraries/jquery-ui.custom.min\");"
      ],
      "text/plain": [
       "<IPython.core.display.Javascript object>"
      ]
     },
     "metadata": {},
     "output_type": "display_data"
    },
    {
     "data": {
      "application/javascript": [
       "require([\"nbextensions/vpython_libraries/glow.min\"], function(){console.log(\"GLOW LOADED\");})"
      ],
      "text/plain": [
       "<IPython.core.display.Javascript object>"
      ]
     },
     "metadata": {},
     "output_type": "display_data"
    },
    {
     "data": {
      "application/javascript": [
       "require([\"nbextensions/vpython_libraries/glowcomm\"], function(){console.log(\"GLOWCOMM LOADED\");})"
      ],
      "text/plain": [
       "<IPython.core.display.Javascript object>"
      ]
     },
     "metadata": {},
     "output_type": "display_data"
    },
    {
     "data": {
      "application/javascript": [
       "require([\"nbextensions/vpython_libraries/jquery-ui.custom.min\"], function(){console.log(\"JQUERY LOADED\");})"
      ],
      "text/plain": [
       "<IPython.core.display.Javascript object>"
      ]
     },
     "metadata": {},
     "output_type": "display_data"
    },
    {
     "data": {
      "text/html": [
       "<div id=\"glowscript\" class=\"glowscript\"></div>"
      ],
      "text/plain": [
       "<IPython.core.display.HTML object>"
      ]
     },
     "metadata": {},
     "output_type": "display_data"
    },
    {
     "data": {
      "application/javascript": [
       "window.__context = { glowscript_container: $(\"#glowscript\").removeAttr(\"id\")}"
      ],
      "text/plain": [
       "<IPython.core.display.Javascript object>"
      ]
     },
     "metadata": {},
     "output_type": "display_data"
    }
   ],
   "source": [
    "from math import *\n",
    "from vpython import *"
   ]
  },
  {
   "cell_type": "markdown",
   "metadata": {},
   "source": [
    "If running the `import` statments above produces an error, then it is possible that you need to install the vpython package. From the command line type:\n",
    "\n",
    "`pip install vpython`\n",
    "\n",
    "You should see a message that it was successfully installed."
   ]
  },
  {
   "cell_type": "markdown",
   "metadata": {},
   "source": [
    "## Create a 3D scene and sphere"
   ]
  },
  {
   "cell_type": "markdown",
   "metadata": {},
   "source": [
    "Now, we will create a 3D scene (including a title) and draw a sphere. The ``canvas()`` function creates the 3D window. The function ``sphere()`` creates a sphere."
   ]
  },
  {
   "cell_type": "code",
   "execution_count": 2,
   "metadata": {
    "collapsed": false
   },
   "outputs": [
    {
     "data": {
      "text/html": [
       "<div id=\"glowscript\" class=\"glowscript\"></div>"
      ],
      "text/plain": [
       "<IPython.core.display.HTML object>"
      ]
     },
     "metadata": {},
     "output_type": "display_data"
    },
    {
     "data": {
      "application/javascript": [
       "window.__context = { glowscript_container: $(\"#glowscript\").removeAttr(\"id\")}"
      ],
      "text/plain": [
       "<IPython.core.display.Javascript object>"
      ]
     },
     "metadata": {},
     "output_type": "display_data"
    }
   ],
   "source": [
    "scene=canvas(title=\"My first 3D scene\")\n",
    "sphere()"
   ]
  },
  {
   "cell_type": "markdown",
   "metadata": {},
   "source": [
    "By default the sphere is at the center of the scene, and the \"camera\" (your point of view) is looking directly at the center.\n",
    "\n",
    "If you are on a PC or have a two-button mouse, hold down both mouse buttons and move the mouse forward and backward to make the camera move closer or farther away from the center of the scene. On a Mac, hold down the option key and mouse button while moving the mouse forward and backward. This is how you *zoom* in VPython. A scroll wheel also zooms in and out.\n",
    "\n",
    "Hold down the right mouse button alone and move the mouse to make the camera revolve around the scene, while always looking at the center. On a Mac, in order to revolve around the scene, hold down the Control key while you click and drag the mouse. Because this is a sphere, you won't notice a significant change except for lighting.\n",
    "\n",
    "By default, when you first run the program, the coordinate system is defined with the positive x direction to the right, the positive y direction pointing up toward the top edge of the monitor, and the positive z direction coming out of the screen toward you. You can then rotate the camera view to make these axes point in other directions relative to the camera."
   ]
  },
  {
   "cell_type": "markdown",
   "metadata": {},
   "source": [
    "## Position and Other Properties of an Object"
   ]
  },
  {
   "cell_type": "markdown",
   "metadata": {},
   "source": [
    "Now let's give the sphere a different position in space, a radius, and a color. Run the program below.  Experiment with  changes to ``pos``, ``radius``, and ``color``. Run the program (shift-enter) each time you change an attribute to see its effect."
   ]
  },
  {
   "cell_type": "code",
   "execution_count": 3,
   "metadata": {
    "collapsed": false
   },
   "outputs": [
    {
     "data": {
      "text/html": [
       "<div id=\"glowscript\" class=\"glowscript\"></div>"
      ],
      "text/plain": [
       "<IPython.core.display.HTML object>"
      ]
     },
     "metadata": {},
     "output_type": "display_data"
    },
    {
     "data": {
      "application/javascript": [
       "window.__context = { glowscript_container: $(\"#glowscript\").removeAttr(\"id\")}"
      ],
      "text/plain": [
       "<IPython.core.display.Javascript object>"
      ]
     },
     "metadata": {},
     "output_type": "display_data"
    }
   ],
   "source": [
    "scene3=canvas(title=\"My first 3D scene\")\n",
    "sphere(pos=vector(2,4,0), radius=0.40, color=color.red)"
   ]
  },
  {
   "cell_type": "markdown",
   "metadata": {},
   "source": [
    "## Autoscaling and Units"
   ]
  },
  {
   "cell_type": "markdown",
   "metadata": {},
   "source": [
    "VPython automatically zooms the camera in or out so all objects appear in the window. Because of this autoscaling, the numbers for the ``pos`` and ``radius`` can be in any consistent set of units, like meters, centimeters, inches, etc. For example, the previous program could represent a sphere with a radius 0.20 m at the position $(2,4,0)$ m."
   ]
  },
  {
   "cell_type": "markdown",
   "metadata": {},
   "source": [
    "## Creating a Box Object"
   ]
  },
  {
   "cell_type": "markdown",
   "metadata": {},
   "source": [
    "Another object we will often create is a box. A box is defined by its position, axis, length, width, and height as shown below.\n",
    "\n",
    "![box](./box.jpg)\n",
    "(image from [VPython Docs](http://www.glowscript.org/docs/VPythonDocs/index.html))\n",
    "\n",
    "Run the following program to create a box. The length, width, and height of the box are expressed as a vector with the attribute: ``size=vector(L,H,W)``  .\n"
   ]
  },
  {
   "cell_type": "code",
   "execution_count": 4,
   "metadata": {
    "collapsed": false
   },
   "outputs": [
    {
     "data": {
      "text/html": [
       "<div id=\"glowscript\" class=\"glowscript\"></div>"
      ],
      "text/plain": [
       "<IPython.core.display.HTML object>"
      ]
     },
     "metadata": {},
     "output_type": "display_data"
    },
    {
     "data": {
      "application/javascript": [
       "window.__context = { glowscript_container: $(\"#glowscript\").removeAttr(\"id\")}"
      ],
      "text/plain": [
       "<IPython.core.display.Javascript object>"
      ]
     },
     "metadata": {},
     "output_type": "display_data"
    }
   ],
   "source": [
    "scene4=canvas(title=\"Create a box\")\n",
    "box(pos=vector(0,0,0), size=vector(10,0.2,0.5), color=color.orange)"
   ]
  },
  {
   "cell_type": "markdown",
   "metadata": {},
   "source": [
    "Experiment by rotating the box, and zooming in and out. Change its length and re-run the program. Similarly change its height and width and re-run the program to observe the result."
   ]
  },
  {
   "cell_type": "markdown",
   "metadata": {},
   "source": [
    "## Comments"
   ]
  },
  {
   "cell_type": "markdown",
   "metadata": {},
   "source": [
    "Comment lines start with a \\# (called a pound sign or hashtag).  A comment line can be a note to yourself, such as:\n",
    "\n",
    "```python\n",
    "#units are meters\n",
    "```\n",
    "\n",
    "Or a comment can be used to remove a line of code temporarily, without erasing it. Putting a \\# at the beginning of the line creating the box, as shown below, will cause it to not appear.\n",
    "\n",
    "```python\n",
    "#box(pos=vector(0,0,0), size=vector(1,0.2,0.5), color=color.orange)\n",
    "```"
   ]
  },
  {
   "cell_type": "markdown",
   "metadata": {},
   "source": [
    "## Checkpoint \\#1"
   ]
  },
  {
   "cell_type": "markdown",
   "metadata": {},
   "source": [
    "We will draw a tennis court and will change the position of a tennis ball."
   ]
  },
  {
   "cell_type": "markdown",
   "metadata": {},
   "source": [
    "In the cell below, there is a code template that creates a scene, a box, and a sphere. Use what you've learned to:\n",
    "\n",
    "1.  Create a box that represents a tennis court. Make it green, 78 ft long, 36 ft wide, and 2 ft tall. Place its center at the origin.\n",
    "\n",
    "- Create an orange sphere (representing a tennis ball) at location $<-28,5,8>$ ft, with radius 1 ft. Of course a tennis ball is much smaller than this in real life, but we have to make it big enough to see it clearly in the scene. Sometimes we use unphysical sizes just to make objects visible.\n",
    "\n",
    "Remember, you don't type the units into your program. But rather, you should use a consistent set of units and know what they are. It's a good idea to use a comment line to indicate units.\n",
    "\n",
    "```python\n",
    "\n",
    "# units are ft\n",
    "\n",
    "```\n"
   ]
  },
  {
   "cell_type": "code",
   "execution_count": 5,
   "metadata": {
    "collapsed": false
   },
   "outputs": [
    {
     "data": {
      "text/html": [
       "<div id=\"glowscript\" class=\"glowscript\"></div>"
      ],
      "text/plain": [
       "<IPython.core.display.HTML object>"
      ]
     },
     "metadata": {},
     "output_type": "display_data"
    },
    {
     "data": {
      "application/javascript": [
       "window.__context = { glowscript_container: $(\"#glowscript\").removeAttr(\"id\")}"
      ],
      "text/plain": [
       "<IPython.core.display.Javascript object>"
      ]
     },
     "metadata": {},
     "output_type": "display_data"
    }
   ],
   "source": [
    "#Edit this code to make a green box at the origin, 78 ft long, 36 ft wide, and 2 ft tall.\n",
    "#Create an orange sphere at  <-28,5,8> ft with radius 1 ft.\n",
    "#Use a comment line to remind readers of the units\n",
    "scene5=canvas(title=\"tennis court\")\n",
    "box()\n",
    "sphere()"
   ]
  },
  {
   "cell_type": "markdown",
   "metadata": {},
   "source": [
    "## Naming Objects; Using Object Names and Attributes"
   ]
  },
  {
   "cell_type": "markdown",
   "metadata": {},
   "source": [
    "Sometimes we want to change the position of the ball after we defined it. Thus, give a name to the sphere by adding ``tennisball=`` before the ``sphere()`` statement as shown below.\n",
    "\n",
    "```python\n",
    "tennisball=sphere(pos=vector(-28, 5, 8), radius=1, color=color.orange)\n",
    "```\n",
    "\n",
    "We've now given the name ```tennisball``` to the sphere. We can use this name later in the program to refer to the sphere. Furthermore, we can specifically refer to the attributes of the sphere by writing, for example, ``tennisball.pos`` to refer to the tennis ball's position attribute, or ``tennisball.color`` to refer to the tennis ball's color attribute. To see how this works, run the following cell."
   ]
  },
  {
   "cell_type": "code",
   "execution_count": 6,
   "metadata": {
    "collapsed": false
   },
   "outputs": [
    {
     "name": "stdout",
     "output_type": "stream",
     "text": [
      "<-28.000000, 5.000000, 8.000000>\n"
     ]
    }
   ],
   "source": [
    "tennisball=sphere(pos=vector(-28, 5, 8), radius=1, color=color.orange)\n",
    "print(tennisball.pos)"
   ]
  },
  {
   "cell_type": "markdown",
   "metadata": {},
   "source": [
    "We can change the ball's position by changing ```tennisball.pos``` to a new vector. Run the following program where the ball's position is changed. The ball is first drawn at the position $<-28, 5, 8>$ and then redrawn at the new position $<0,6,0>$. This happens so quickly that you do not notice the tennis ball drawn at the first location which is why printing the values is so useful."
   ]
  },
  {
   "cell_type": "code",
   "execution_count": 7,
   "metadata": {
    "collapsed": false
   },
   "outputs": [
    {
     "data": {
      "text/html": [
       "<div id=\"glowscript\" class=\"glowscript\"></div>"
      ],
      "text/plain": [
       "<IPython.core.display.HTML object>"
      ]
     },
     "metadata": {},
     "output_type": "display_data"
    },
    {
     "data": {
      "application/javascript": [
       "window.__context = { glowscript_container: $(\"#glowscript\").removeAttr(\"id\")}"
      ],
      "text/plain": [
       "<IPython.core.display.Javascript object>"
      ]
     },
     "metadata": {},
     "output_type": "display_data"
    },
    {
     "name": "stdout",
     "output_type": "stream",
     "text": [
      "<-28.000000, 5.000000, 8.000000>\n",
      "<0.000000, 6.000000, 0.000000>\n"
     ]
    }
   ],
   "source": [
    "scene6=canvas(title=\"tennis court\")\n",
    "box(pos=vector(0,0,0), size=vector(78,2,36), color=color.green)\n",
    "tennisball=sphere(pos=vector(-28, 5, 8), radius=1, color=color.orange)\n",
    "print(tennisball.pos)\n",
    "tennisball.pos=vector(0,6,0)\n",
    "print(tennisball.pos)"
   ]
  },
  {
   "cell_type": "markdown",
   "metadata": {},
   "source": [
    "## Motion with Constant Velocity"
   ]
  },
  {
   "cell_type": "markdown",
   "metadata": {},
   "source": [
    "In general, every program that models the motion of physical objects has two main parts:\n",
    "\n",
    "1. **Before the loop**: The first part of the program tells the computer to:\n",
    "    1. Create 3D objects.\n",
    "\t- Give them initial positions and velocities.\n",
    "\t- Define numerical values for constants we might need.\n",
    "2. **The ``while`` loop**:  The second part of the program, the loop, contains the lines that the computer reads to tell it how to update the positions of the objects over and over again, making them move on the screen.\n",
    "\n",
    "To learn how to model the motion of an object, we will write a program to model the motion of a steel ball moving with a constant velocity as it rolls across a track.  \n",
    "\n",
    "The track is at the origin and has a length of 3 m, a height of 0.05 m, and a width of 0.1 m. We will make the y-position of the track -0.075 m (below zero). The track's height is 0.05 m. If we add half the height to the center of the track, then the top surface of the track is at -0.05 m. We can place a ball of radius 0.05 m at $y=0$ such that it appears to be on top of the track.\n"
   ]
  },
  {
   "cell_type": "code",
   "execution_count": 8,
   "metadata": {
    "collapsed": false
   },
   "outputs": [
    {
     "data": {
      "text/html": [
       "<div id=\"glowscript\" class=\"glowscript\"></div>"
      ],
      "text/plain": [
       "<IPython.core.display.HTML object>"
      ]
     },
     "metadata": {},
     "output_type": "display_data"
    },
    {
     "data": {
      "application/javascript": [
       "window.__context = { glowscript_container: $(\"#glowscript\").removeAttr(\"id\")}"
      ],
      "text/plain": [
       "<IPython.core.display.Javascript object>"
      ]
     },
     "metadata": {},
     "output_type": "display_data"
    }
   ],
   "source": [
    "scene7=canvas(title=\"Ball on Track with Constant Velocity\")\n",
    "track=box(pos=vector(0,-0.075,0), size=vector(3,0.05,0.1), color=color.white)\n",
    "ball=sphere(pos=vector(-1.4,0,0), radius=0.05, color=color.orange)"
   ]
  },
  {
   "cell_type": "markdown",
   "metadata": {},
   "source": [
    "## Defining the Velocity of the Ball"
   ]
  },
  {
   "cell_type": "markdown",
   "metadata": {},
   "source": [
    "Now, we will define the velocity of the ball to be to the right with a speed of 0.3 m/s. A unit vector that points to the right is $<1,0,0>$. So, the velocity of the ball can be written on paper as:\n",
    "\n",
    "$$\\vec{v} = |\\vec{v}|\\hat{v} = 0.3<1,0,0>$$\n",
    "\n",
    "Next we will see how to write this in VPython.\n",
    "\n",
    "Just as the position of the ball is referenced as ``ball.pos``, let's define the ball's velocity as ``ball.v`` which indicates that $v$ is a property of the object named ``ball``.  Thus, we will write the ball's velocity as\n",
    "\n",
    "```python\n",
    "\n",
    "ball.v=0.3*vector(1,0,0)\n",
    "\n",
    "```\n",
    "\n",
    "This statement creates a property of the ball  ``ball.v`` that is a vector quantity with a magnitude 0.3 that points to the right.  Whenever you want to refer to the velocity of the ball, you must refer to ``ball.v``. For example, \n",
    "use\n",
    "\n",
    "```python\n",
    "\n",
    "print(ball.v)\n",
    "\n",
    "```\n",
    "\n",
    "to print the ball's velocity."
   ]
  },
  {
   "cell_type": "markdown",
   "metadata": {},
   "source": [
    "## Defining Values for Other Constants and Variables"
   ]
  },
  {
   "cell_type": "markdown",
   "metadata": {},
   "source": [
    "To make an object move, we will update its position every $\\Delta t$ seconds. In general, $\\Delta t$ should be small enough such that the displacement of the object is small. The size of $\\Delta t$ also affects the speed at which your program runs. If it is exceedingly small, then the computer has to do lots of calculations just to make your object move across your screen. This will slow down the computer.\n",
    "\n",
    "For now, let's use 1 hundredth of a second as the time step, $\\Delta t$. Let's define a variable $dt$ for the time interval.\n",
    "\n",
    "```python\n",
    "dt=0.01\n",
    "```\n",
    "\n",
    "Also, let's define the total time $t$ for the clock. The clock starts out at $t=0$.\n",
    "\n",
    "```python\n",
    "\n",
    "t=0\n",
    "\n",
    "```\n",
    "\n",
    "That completes the first part of the program which tells the computer to:\n",
    "\n",
    "1. Create the 3D objects and name them.\n",
    "- Give the ball an initial position and velocity.\n",
    "- Define variable names for the clock reading $t$ and the time interval $dt$.\n",
    "\n",
    "Run the program below. Note that the ball doesn't move because we have not added a loop to change its position.\n"
   ]
  },
  {
   "cell_type": "code",
   "execution_count": 9,
   "metadata": {
    "collapsed": false
   },
   "outputs": [
    {
     "data": {
      "text/html": [
       "<div id=\"glowscript\" class=\"glowscript\"></div>"
      ],
      "text/plain": [
       "<IPython.core.display.HTML object>"
      ]
     },
     "metadata": {},
     "output_type": "display_data"
    },
    {
     "data": {
      "application/javascript": [
       "window.__context = { glowscript_container: $(\"#glowscript\").removeAttr(\"id\")}"
      ],
      "text/plain": [
       "<IPython.core.display.Javascript object>"
      ]
     },
     "metadata": {},
     "output_type": "display_data"
    },
    {
     "name": "stdout",
     "output_type": "stream",
     "text": [
      "<0.300000, 0.000000, 0.000000>\n"
     ]
    }
   ],
   "source": [
    "scene8=canvas(title=\"Ball on Track with Constant Velocity\")\n",
    "track=box(pos=vector(0,-0.075,0), size=vector(3,0.05,0.1), color=color.white)\n",
    "ball=sphere(pos=vector(-1.4,0,0), radius=0.05, color=color.orange)\n",
    "\n",
    "ball.v=0.3*vector(1,0,0)\n",
    "\n",
    "print(ball.v)\n",
    "\n",
    "dt=0.01\n",
    "t=0\n"
   ]
  },
  {
   "cell_type": "markdown",
   "metadata": {},
   "source": [
    "## Creating a ``while`` loop to continuously calculate the position of the object"
   ]
  },
  {
   "cell_type": "markdown",
   "metadata": {},
   "source": [
    "We will now create a ```while``` loop. Each time the program runs through this loop, it will:\n",
    "\n",
    "1. Calculate the displacement of the ball and add it to the ball's previous position in order to find its new position. This is known as the *position update*.\n",
    "2. Calculate the clock reading by incrementing $t$ by an amount $dt$ through each iteration of the loop. This is the *time update*.\n",
    "3. Repeat.\n",
    "\n",
    "To see how this works, let's write a loop that updates the clock reading $t$ and prints the result.\n"
   ]
  },
  {
   "cell_type": "code",
   "execution_count": 10,
   "metadata": {
    "collapsed": false
   },
   "outputs": [
    {
     "name": "stdout",
     "output_type": "stream",
     "text": [
      "0.01\n",
      "0.02\n",
      "0.03\n",
      "0.04\n",
      "0.05\n",
      "0.060000000000000005\n",
      "0.07\n",
      "0.08\n",
      "0.09\n",
      "0.09999999999999999\n",
      "0.10999999999999999\n",
      "0.11999999999999998\n",
      "0.12999999999999998\n",
      "0.13999999999999999\n",
      "0.15\n",
      "0.16\n",
      "0.17\n",
      "0.18000000000000002\n",
      "0.19000000000000003\n",
      "0.20000000000000004\n",
      "0.21000000000000005\n",
      "0.22000000000000006\n",
      "0.23000000000000007\n",
      "0.24000000000000007\n",
      "0.25000000000000006\n",
      "0.26000000000000006\n",
      "0.2700000000000001\n",
      "0.2800000000000001\n",
      "0.2900000000000001\n",
      "0.3000000000000001\n",
      "0.3100000000000001\n",
      "0.3200000000000001\n",
      "0.3300000000000001\n",
      "0.34000000000000014\n",
      "0.35000000000000014\n",
      "0.36000000000000015\n",
      "0.37000000000000016\n",
      "0.38000000000000017\n",
      "0.3900000000000002\n",
      "0.4000000000000002\n",
      "0.4100000000000002\n",
      "0.4200000000000002\n",
      "0.4300000000000002\n",
      "0.4400000000000002\n",
      "0.45000000000000023\n",
      "0.46000000000000024\n",
      "0.47000000000000025\n",
      "0.48000000000000026\n",
      "0.49000000000000027\n",
      "0.5000000000000002\n",
      "0.5100000000000002\n",
      "0.5200000000000002\n",
      "0.5300000000000002\n",
      "0.5400000000000003\n",
      "0.5500000000000003\n",
      "0.5600000000000003\n",
      "0.5700000000000003\n",
      "0.5800000000000003\n",
      "0.5900000000000003\n",
      "0.6000000000000003\n",
      "0.6100000000000003\n",
      "0.6200000000000003\n",
      "0.6300000000000003\n",
      "0.6400000000000003\n",
      "0.6500000000000004\n",
      "0.6600000000000004\n",
      "0.6700000000000004\n",
      "0.6800000000000004\n",
      "0.6900000000000004\n",
      "0.7000000000000004\n",
      "0.7100000000000004\n",
      "0.7200000000000004\n",
      "0.7300000000000004\n",
      "0.7400000000000004\n",
      "0.7500000000000004\n",
      "0.7600000000000005\n",
      "0.7700000000000005\n",
      "0.7800000000000005\n",
      "0.7900000000000005\n",
      "0.8000000000000005\n",
      "0.8100000000000005\n",
      "0.8200000000000005\n",
      "0.8300000000000005\n",
      "0.8400000000000005\n",
      "0.8500000000000005\n",
      "0.8600000000000005\n",
      "0.8700000000000006\n",
      "0.8800000000000006\n",
      "0.8900000000000006\n",
      "0.9000000000000006\n",
      "0.9100000000000006\n",
      "0.9200000000000006\n",
      "0.9300000000000006\n",
      "0.9400000000000006\n",
      "0.9500000000000006\n",
      "0.9600000000000006\n",
      "0.9700000000000006\n",
      "0.9800000000000006\n",
      "0.9900000000000007\n",
      "1.0000000000000007\n",
      "1.0100000000000007\n",
      "1.0200000000000007\n",
      "1.0300000000000007\n",
      "1.0400000000000007\n",
      "1.0500000000000007\n",
      "1.0600000000000007\n",
      "1.0700000000000007\n",
      "1.0800000000000007\n",
      "1.0900000000000007\n",
      "1.1000000000000008\n",
      "1.1100000000000008\n",
      "1.1200000000000008\n",
      "1.1300000000000008\n",
      "1.1400000000000008\n",
      "1.1500000000000008\n",
      "1.1600000000000008\n",
      "1.1700000000000008\n",
      "1.1800000000000008\n",
      "1.1900000000000008\n",
      "1.2000000000000008\n",
      "1.2100000000000009\n",
      "1.2200000000000009\n",
      "1.2300000000000009\n",
      "1.2400000000000009\n",
      "1.2500000000000009\n",
      "1.260000000000001\n",
      "1.270000000000001\n",
      "1.280000000000001\n",
      "1.290000000000001\n",
      "1.300000000000001\n",
      "1.310000000000001\n",
      "1.320000000000001\n",
      "1.330000000000001\n",
      "1.340000000000001\n",
      "1.350000000000001\n",
      "1.360000000000001\n",
      "1.370000000000001\n",
      "1.380000000000001\n",
      "1.390000000000001\n",
      "1.400000000000001\n",
      "1.410000000000001\n",
      "1.420000000000001\n",
      "1.430000000000001\n",
      "1.440000000000001\n",
      "1.450000000000001\n",
      "1.460000000000001\n",
      "1.470000000000001\n",
      "1.480000000000001\n",
      "1.490000000000001\n",
      "1.500000000000001\n",
      "1.5100000000000011\n",
      "1.5200000000000011\n",
      "1.5300000000000011\n",
      "1.5400000000000011\n",
      "1.5500000000000012\n",
      "1.5600000000000012\n",
      "1.5700000000000012\n",
      "1.5800000000000012\n",
      "1.5900000000000012\n",
      "1.6000000000000012\n",
      "1.6100000000000012\n",
      "1.6200000000000012\n",
      "1.6300000000000012\n",
      "1.6400000000000012\n",
      "1.6500000000000012\n",
      "1.6600000000000013\n",
      "1.6700000000000013\n",
      "1.6800000000000013\n",
      "1.6900000000000013\n",
      "1.7000000000000013\n",
      "1.7100000000000013\n",
      "1.7200000000000013\n",
      "1.7300000000000013\n",
      "1.7400000000000013\n",
      "1.7500000000000013\n",
      "1.7600000000000013\n",
      "1.7700000000000014\n",
      "1.7800000000000014\n",
      "1.7900000000000014\n",
      "1.8000000000000014\n",
      "1.8100000000000014\n",
      "1.8200000000000014\n",
      "1.8300000000000014\n",
      "1.8400000000000014\n",
      "1.8500000000000014\n",
      "1.8600000000000014\n",
      "1.8700000000000014\n",
      "1.8800000000000014\n",
      "1.8900000000000015\n",
      "1.9000000000000015\n",
      "1.9100000000000015\n",
      "1.9200000000000015\n",
      "1.9300000000000015\n",
      "1.9400000000000015\n",
      "1.9500000000000015\n",
      "1.9600000000000015\n",
      "1.9700000000000015\n",
      "1.9800000000000015\n",
      "1.9900000000000015\n",
      "2.0000000000000013\n",
      "2.010000000000001\n",
      "2.020000000000001\n",
      "2.0300000000000007\n",
      "2.0400000000000005\n",
      "2.0500000000000003\n",
      "2.06\n",
      "2.07\n",
      "2.0799999999999996\n",
      "2.0899999999999994\n",
      "2.099999999999999\n",
      "2.109999999999999\n",
      "2.1199999999999988\n",
      "2.1299999999999986\n",
      "2.1399999999999983\n",
      "2.149999999999998\n",
      "2.159999999999998\n",
      "2.1699999999999977\n",
      "2.1799999999999975\n",
      "2.1899999999999973\n",
      "2.199999999999997\n",
      "2.209999999999997\n",
      "2.2199999999999966\n",
      "2.2299999999999964\n",
      "2.239999999999996\n",
      "2.249999999999996\n",
      "2.259999999999996\n",
      "2.2699999999999956\n",
      "2.2799999999999954\n",
      "2.289999999999995\n",
      "2.299999999999995\n",
      "2.3099999999999947\n",
      "2.3199999999999945\n",
      "2.3299999999999943\n",
      "2.339999999999994\n",
      "2.349999999999994\n",
      "2.3599999999999937\n",
      "2.3699999999999934\n",
      "2.3799999999999932\n",
      "2.389999999999993\n",
      "2.399999999999993\n",
      "2.4099999999999926\n",
      "2.4199999999999924\n",
      "2.429999999999992\n",
      "2.439999999999992\n",
      "2.4499999999999917\n",
      "2.4599999999999915\n",
      "2.4699999999999913\n",
      "2.479999999999991\n",
      "2.489999999999991\n",
      "2.4999999999999907\n",
      "2.5099999999999905\n",
      "2.5199999999999902\n",
      "2.52999999999999\n",
      "2.53999999999999\n",
      "2.5499999999999896\n",
      "2.5599999999999894\n",
      "2.569999999999989\n",
      "2.579999999999989\n",
      "2.5899999999999888\n",
      "2.5999999999999885\n",
      "2.6099999999999883\n",
      "2.619999999999988\n",
      "2.629999999999988\n",
      "2.6399999999999877\n",
      "2.6499999999999875\n",
      "2.6599999999999873\n",
      "2.669999999999987\n",
      "2.679999999999987\n",
      "2.6899999999999866\n",
      "2.6999999999999864\n",
      "2.709999999999986\n",
      "2.719999999999986\n",
      "2.7299999999999858\n",
      "2.7399999999999856\n",
      "2.7499999999999853\n",
      "2.759999999999985\n",
      "2.769999999999985\n",
      "2.7799999999999847\n",
      "2.7899999999999845\n",
      "2.7999999999999843\n",
      "2.809999999999984\n",
      "2.819999999999984\n",
      "2.8299999999999836\n",
      "2.8399999999999834\n",
      "2.849999999999983\n",
      "2.859999999999983\n",
      "2.869999999999983\n",
      "2.8799999999999826\n",
      "2.8899999999999824\n",
      "2.899999999999982\n",
      "2.909999999999982\n",
      "2.9199999999999817\n",
      "2.9299999999999815\n",
      "2.9399999999999813\n",
      "2.949999999999981\n",
      "2.959999999999981\n",
      "2.9699999999999807\n",
      "2.9799999999999804\n",
      "2.9899999999999802\n",
      "2.99999999999998\n",
      "3.00999999999998\n",
      "3.0199999999999796\n",
      "3.0299999999999794\n",
      "3.039999999999979\n",
      "3.049999999999979\n",
      "3.0599999999999787\n",
      "3.0699999999999785\n",
      "3.0799999999999783\n",
      "3.089999999999978\n",
      "3.099999999999978\n",
      "3.1099999999999777\n",
      "3.1199999999999775\n",
      "3.1299999999999772\n",
      "3.139999999999977\n",
      "3.149999999999977\n",
      "3.1599999999999766\n",
      "3.1699999999999764\n",
      "3.179999999999976\n",
      "3.189999999999976\n",
      "3.1999999999999758\n",
      "3.2099999999999755\n",
      "3.2199999999999753\n",
      "3.229999999999975\n",
      "3.239999999999975\n",
      "3.2499999999999747\n",
      "3.2599999999999745\n",
      "3.2699999999999743\n",
      "3.279999999999974\n",
      "3.289999999999974\n",
      "3.2999999999999736\n",
      "3.3099999999999734\n",
      "3.319999999999973\n",
      "3.329999999999973\n",
      "3.3399999999999728\n",
      "3.3499999999999726\n",
      "3.3599999999999723\n",
      "3.369999999999972\n",
      "3.379999999999972\n",
      "3.3899999999999717\n",
      "3.3999999999999715\n",
      "3.4099999999999713\n",
      "3.419999999999971\n",
      "3.429999999999971\n",
      "3.4399999999999706\n",
      "3.4499999999999704\n",
      "3.45999999999997\n",
      "3.46999999999997\n",
      "3.47999999999997\n",
      "3.4899999999999696\n",
      "3.4999999999999694\n",
      "3.509999999999969\n",
      "3.519999999999969\n",
      "3.5299999999999687\n",
      "3.5399999999999685\n",
      "3.5499999999999683\n",
      "3.559999999999968\n",
      "3.569999999999968\n",
      "3.5799999999999677\n",
      "3.5899999999999674\n",
      "3.5999999999999672\n",
      "3.609999999999967\n",
      "3.619999999999967\n",
      "3.6299999999999666\n",
      "3.6399999999999664\n",
      "3.649999999999966\n",
      "3.659999999999966\n",
      "3.6699999999999657\n",
      "3.6799999999999655\n",
      "3.6899999999999653\n",
      "3.699999999999965\n",
      "3.709999999999965\n",
      "3.7199999999999647\n",
      "3.7299999999999645\n",
      "3.7399999999999642\n",
      "3.749999999999964\n",
      "3.759999999999964\n",
      "3.7699999999999636\n",
      "3.7799999999999634\n",
      "3.789999999999963\n",
      "3.799999999999963\n",
      "3.8099999999999627\n",
      "3.8199999999999625\n",
      "3.8299999999999623\n",
      "3.839999999999962\n",
      "3.849999999999962\n",
      "3.8599999999999617\n",
      "3.8699999999999615\n",
      "3.8799999999999613\n",
      "3.889999999999961\n",
      "3.899999999999961\n",
      "3.9099999999999606\n",
      "3.9199999999999604\n",
      "3.92999999999996\n",
      "3.93999999999996\n",
      "3.9499999999999598\n",
      "3.9599999999999596\n",
      "3.9699999999999593\n",
      "3.979999999999959\n",
      "3.989999999999959\n",
      "3.9999999999999587\n",
      "4.009999999999959\n",
      "4.019999999999959\n",
      "4.0299999999999585\n",
      "4.039999999999958\n",
      "4.049999999999958\n",
      "4.059999999999958\n",
      "4.069999999999958\n",
      "4.079999999999957\n",
      "4.089999999999957\n",
      "4.099999999999957\n",
      "4.109999999999957\n",
      "4.119999999999957\n",
      "4.129999999999956\n",
      "4.139999999999956\n",
      "4.149999999999956\n",
      "4.159999999999956\n",
      "4.1699999999999555\n",
      "4.179999999999955\n",
      "4.189999999999955\n",
      "4.199999999999955\n",
      "4.209999999999955\n",
      "4.2199999999999545\n",
      "4.229999999999954\n",
      "4.239999999999954\n",
      "4.249999999999954\n",
      "4.259999999999954\n",
      "4.269999999999953\n",
      "4.279999999999953\n",
      "4.289999999999953\n",
      "4.299999999999953\n",
      "4.3099999999999525\n",
      "4.319999999999952\n",
      "4.329999999999952\n",
      "4.339999999999952\n",
      "4.349999999999952\n",
      "4.3599999999999515\n",
      "4.369999999999951\n",
      "4.379999999999951\n",
      "4.389999999999951\n",
      "4.399999999999951\n",
      "4.40999999999995\n",
      "4.41999999999995\n",
      "4.42999999999995\n",
      "4.43999999999995\n",
      "4.4499999999999496\n",
      "4.459999999999949\n",
      "4.469999999999949\n",
      "4.479999999999949\n",
      "4.489999999999949\n",
      "4.4999999999999485\n",
      "4.509999999999948\n",
      "4.519999999999948\n",
      "4.529999999999948\n",
      "4.539999999999948\n",
      "4.549999999999947\n",
      "4.559999999999947\n",
      "4.569999999999947\n",
      "4.579999999999947\n",
      "4.589999999999947\n",
      "4.599999999999946\n",
      "4.609999999999946\n",
      "4.619999999999946\n",
      "4.629999999999946\n",
      "4.6399999999999455\n",
      "4.649999999999945\n",
      "4.659999999999945\n",
      "4.669999999999945\n",
      "4.679999999999945\n",
      "4.689999999999944\n",
      "4.699999999999944\n",
      "4.709999999999944\n",
      "4.719999999999944\n",
      "4.729999999999944\n",
      "4.739999999999943\n",
      "4.749999999999943\n",
      "4.759999999999943\n",
      "4.769999999999943\n",
      "4.7799999999999425\n",
      "4.789999999999942\n",
      "4.799999999999942\n",
      "4.809999999999942\n",
      "4.819999999999942\n",
      "4.8299999999999415\n",
      "4.839999999999941\n",
      "4.849999999999941\n",
      "4.859999999999941\n",
      "4.869999999999941\n",
      "4.87999999999994\n",
      "4.88999999999994\n",
      "4.89999999999994\n",
      "4.90999999999994\n",
      "4.9199999999999395\n",
      "4.929999999999939\n",
      "4.939999999999939\n",
      "4.949999999999939\n",
      "4.959999999999939\n",
      "4.9699999999999385\n",
      "4.979999999999938\n",
      "4.989999999999938\n",
      "4.999999999999938\n",
      "5.009999999999938\n",
      "5.019999999999937\n",
      "5.029999999999937\n",
      "5.039999999999937\n",
      "5.049999999999937\n",
      "5.0599999999999365\n",
      "5.069999999999936\n",
      "5.079999999999936\n",
      "5.089999999999936\n",
      "5.099999999999936\n",
      "5.1099999999999355\n",
      "5.119999999999935\n",
      "5.129999999999935\n",
      "5.139999999999935\n",
      "5.149999999999935\n",
      "5.159999999999934\n",
      "5.169999999999934\n",
      "5.179999999999934\n",
      "5.189999999999934\n",
      "5.199999999999934\n",
      "5.209999999999933\n",
      "5.219999999999933\n",
      "5.229999999999933\n",
      "5.239999999999933\n",
      "5.2499999999999325\n",
      "5.259999999999932\n",
      "5.269999999999932\n",
      "5.279999999999932\n",
      "5.289999999999932\n",
      "5.299999999999931\n",
      "5.309999999999931\n",
      "5.319999999999931\n",
      "5.329999999999931\n",
      "5.339999999999931\n",
      "5.34999999999993\n",
      "5.35999999999993\n",
      "5.36999999999993\n",
      "5.37999999999993\n",
      "5.3899999999999295\n",
      "5.399999999999929\n",
      "5.409999999999929\n",
      "5.419999999999929\n",
      "5.429999999999929\n",
      "5.4399999999999284\n",
      "5.449999999999928\n",
      "5.459999999999928\n",
      "5.469999999999928\n",
      "5.479999999999928\n",
      "5.489999999999927\n",
      "5.499999999999927\n",
      "5.509999999999927\n",
      "5.519999999999927\n",
      "5.5299999999999265\n",
      "5.539999999999926\n",
      "5.549999999999926\n",
      "5.559999999999926\n",
      "5.569999999999926\n",
      "5.5799999999999255\n",
      "5.589999999999925\n",
      "5.599999999999925\n",
      "5.609999999999925\n",
      "5.619999999999925\n",
      "5.629999999999924\n",
      "5.639999999999924\n",
      "5.649999999999924\n",
      "5.659999999999924\n",
      "5.6699999999999235\n",
      "5.679999999999923\n",
      "5.689999999999923\n",
      "5.699999999999923\n",
      "5.709999999999923\n",
      "5.7199999999999225\n",
      "5.729999999999922\n",
      "5.739999999999922\n",
      "5.749999999999922\n",
      "5.759999999999922\n",
      "5.769999999999921\n",
      "5.779999999999921\n",
      "5.789999999999921\n",
      "5.799999999999921\n",
      "5.809999999999921\n",
      "5.81999999999992\n",
      "5.82999999999992\n",
      "5.83999999999992\n",
      "5.84999999999992\n",
      "5.8599999999999195\n",
      "5.869999999999919\n",
      "5.879999999999919\n",
      "5.889999999999919\n",
      "5.899999999999919\n",
      "5.909999999999918\n",
      "5.919999999999918\n",
      "5.929999999999918\n",
      "5.939999999999918\n",
      "5.949999999999918\n",
      "5.959999999999917\n",
      "5.969999999999917\n",
      "5.979999999999917\n",
      "5.989999999999917\n",
      "5.9999999999999165\n",
      "6.009999999999916\n",
      "6.019999999999916\n",
      "6.029999999999916\n",
      "6.039999999999916\n",
      "6.0499999999999154\n",
      "6.059999999999915\n",
      "6.069999999999915\n",
      "6.079999999999915\n",
      "6.089999999999915\n",
      "6.099999999999914\n",
      "6.109999999999914\n",
      "6.119999999999914\n",
      "6.129999999999914\n",
      "6.1399999999999135\n",
      "6.149999999999913\n",
      "6.159999999999913\n",
      "6.169999999999913\n",
      "6.179999999999913\n",
      "6.1899999999999125\n",
      "6.199999999999912\n",
      "6.209999999999912\n",
      "6.219999999999912\n",
      "6.229999999999912\n",
      "6.239999999999911\n",
      "6.249999999999911\n",
      "6.259999999999911\n",
      "6.269999999999911\n",
      "6.2799999999999105\n",
      "6.28999999999991\n",
      "6.29999999999991\n",
      "6.30999999999991\n",
      "6.31999999999991\n",
      "6.3299999999999095\n",
      "6.339999999999909\n",
      "6.349999999999909\n",
      "6.359999999999909\n",
      "6.369999999999909\n",
      "6.379999999999908\n",
      "6.389999999999908\n",
      "6.399999999999908\n",
      "6.409999999999908\n",
      "6.419999999999908\n",
      "6.429999999999907\n",
      "6.439999999999907\n",
      "6.449999999999907\n",
      "6.459999999999907\n",
      "6.4699999999999065\n",
      "6.479999999999906\n",
      "6.489999999999906\n",
      "6.499999999999906\n",
      "6.509999999999906\n",
      "6.519999999999905\n",
      "6.529999999999905\n",
      "6.539999999999905\n",
      "6.549999999999905\n",
      "6.559999999999905\n",
      "6.569999999999904\n",
      "6.579999999999904\n",
      "6.589999999999904\n",
      "6.599999999999904\n",
      "6.6099999999999035\n",
      "6.619999999999903\n",
      "6.629999999999903\n",
      "6.639999999999903\n",
      "6.649999999999903\n",
      "6.659999999999902\n",
      "6.669999999999902\n",
      "6.679999999999902\n",
      "6.689999999999902\n",
      "6.699999999999902\n",
      "6.709999999999901\n",
      "6.719999999999901\n",
      "6.729999999999901\n",
      "6.739999999999901\n",
      "6.7499999999999005\n",
      "6.7599999999999\n",
      "6.7699999999999\n",
      "6.7799999999999\n",
      "6.7899999999999\n",
      "6.7999999999998995\n",
      "6.809999999999899\n",
      "6.819999999999899\n",
      "6.829999999999899\n",
      "6.839999999999899\n",
      "6.849999999999898\n",
      "6.859999999999898\n",
      "6.869999999999898\n",
      "6.879999999999898\n",
      "6.8899999999998975\n",
      "6.899999999999897\n",
      "6.909999999999897\n",
      "6.919999999999897\n",
      "6.929999999999897\n",
      "6.9399999999998965\n",
      "6.949999999999896\n",
      "6.959999999999896\n",
      "6.969999999999896\n",
      "6.979999999999896\n",
      "6.989999999999895\n",
      "6.999999999999895\n",
      "7.009999999999895\n",
      "7.019999999999895\n",
      "7.0299999999998946\n",
      "7.039999999999894\n",
      "7.049999999999894\n",
      "7.059999999999894\n",
      "7.069999999999894\n",
      "7.0799999999998935\n",
      "7.089999999999893\n",
      "7.099999999999893\n",
      "7.109999999999893\n",
      "7.119999999999893\n",
      "7.129999999999892\n",
      "7.139999999999892\n",
      "7.149999999999892\n",
      "7.159999999999892\n",
      "7.169999999999892\n",
      "7.179999999999891\n",
      "7.189999999999891\n",
      "7.199999999999891\n",
      "7.209999999999891\n",
      "7.2199999999998905\n",
      "7.22999999999989\n",
      "7.23999999999989\n",
      "7.24999999999989\n",
      "7.25999999999989\n",
      "7.269999999999889\n",
      "7.279999999999889\n",
      "7.289999999999889\n",
      "7.299999999999889\n",
      "7.309999999999889\n",
      "7.319999999999888\n",
      "7.329999999999888\n",
      "7.339999999999888\n",
      "7.349999999999888\n",
      "7.3599999999998875\n",
      "7.369999999999887\n",
      "7.379999999999887\n",
      "7.389999999999887\n",
      "7.399999999999887\n",
      "7.4099999999998865\n",
      "7.419999999999886\n",
      "7.429999999999886\n",
      "7.439999999999886\n",
      "7.449999999999886\n",
      "7.459999999999885\n",
      "7.469999999999885\n",
      "7.479999999999885\n",
      "7.489999999999885\n",
      "7.4999999999998845\n",
      "7.509999999999884\n",
      "7.519999999999884\n",
      "7.529999999999884\n",
      "7.539999999999884\n",
      "7.5499999999998835\n",
      "7.559999999999883\n",
      "7.569999999999883\n",
      "7.579999999999883\n",
      "7.589999999999883\n",
      "7.599999999999882\n",
      "7.609999999999882\n",
      "7.619999999999882\n",
      "7.629999999999882\n",
      "7.6399999999998816\n",
      "7.649999999999881\n",
      "7.659999999999881\n",
      "7.669999999999881\n",
      "7.679999999999881\n",
      "7.6899999999998805\n",
      "7.69999999999988\n",
      "7.70999999999988\n",
      "7.71999999999988\n",
      "7.72999999999988\n",
      "7.739999999999879\n",
      "7.749999999999879\n",
      "7.759999999999879\n",
      "7.769999999999879\n",
      "7.779999999999879\n",
      "7.789999999999878\n",
      "7.799999999999878\n",
      "7.809999999999878\n",
      "7.819999999999878\n",
      "7.8299999999998775\n",
      "7.839999999999877\n",
      "7.849999999999877\n",
      "7.859999999999877\n",
      "7.869999999999877\n",
      "7.879999999999876\n",
      "7.889999999999876\n",
      "7.899999999999876\n",
      "7.909999999999876\n",
      "7.919999999999876\n",
      "7.929999999999875\n",
      "7.939999999999875\n",
      "7.949999999999875\n",
      "7.959999999999875\n",
      "7.9699999999998745\n",
      "7.979999999999874\n",
      "7.989999999999874\n",
      "7.999999999999874\n",
      "8.009999999999874\n",
      "8.019999999999873\n",
      "8.029999999999873\n",
      "8.039999999999873\n",
      "8.049999999999873\n",
      "8.059999999999873\n",
      "8.069999999999872\n",
      "8.079999999999872\n",
      "8.089999999999872\n",
      "8.099999999999872\n",
      "8.109999999999872\n",
      "8.119999999999871\n",
      "8.129999999999871\n",
      "8.139999999999871\n",
      "8.14999999999987\n",
      "8.15999999999987\n",
      "8.16999999999987\n",
      "8.17999999999987\n",
      "8.18999999999987\n",
      "8.19999999999987\n",
      "8.20999999999987\n",
      "8.21999999999987\n",
      "8.229999999999869\n",
      "8.239999999999869\n",
      "8.249999999999869\n",
      "8.259999999999868\n",
      "8.269999999999868\n",
      "8.279999999999868\n",
      "8.289999999999868\n",
      "8.299999999999867\n",
      "8.309999999999867\n",
      "8.319999999999867\n",
      "8.329999999999867\n",
      "8.339999999999867\n",
      "8.349999999999866\n",
      "8.359999999999866\n",
      "8.369999999999866\n",
      "8.379999999999866\n",
      "8.389999999999866\n",
      "8.399999999999865\n",
      "8.409999999999865\n",
      "8.419999999999865\n",
      "8.429999999999865\n",
      "8.439999999999864\n",
      "8.449999999999864\n",
      "8.459999999999864\n",
      "8.469999999999864\n",
      "8.479999999999864\n",
      "8.489999999999863\n",
      "8.499999999999863\n",
      "8.509999999999863\n",
      "8.519999999999863\n",
      "8.529999999999863\n",
      "8.539999999999862\n",
      "8.549999999999862\n",
      "8.559999999999862\n",
      "8.569999999999862\n",
      "8.579999999999862\n",
      "8.589999999999861\n",
      "8.599999999999861\n",
      "8.60999999999986\n",
      "8.61999999999986\n",
      "8.62999999999986\n",
      "8.63999999999986\n",
      "8.64999999999986\n",
      "8.65999999999986\n",
      "8.66999999999986\n",
      "8.67999999999986\n",
      "8.68999999999986\n",
      "8.699999999999859\n",
      "8.709999999999859\n",
      "8.719999999999859\n",
      "8.729999999999858\n",
      "8.739999999999858\n",
      "8.749999999999858\n",
      "8.759999999999858\n",
      "8.769999999999857\n",
      "8.779999999999857\n",
      "8.789999999999857\n",
      "8.799999999999857\n",
      "8.809999999999857\n",
      "8.819999999999856\n",
      "8.829999999999856\n",
      "8.839999999999856\n",
      "8.849999999999856\n",
      "8.859999999999856\n",
      "8.869999999999855\n",
      "8.879999999999855\n",
      "8.889999999999855\n",
      "8.899999999999855\n",
      "8.909999999999854\n",
      "8.919999999999854\n",
      "8.929999999999854\n",
      "8.939999999999854\n",
      "8.949999999999854\n",
      "8.959999999999853\n",
      "8.969999999999853\n",
      "8.979999999999853\n",
      "8.989999999999853\n",
      "8.999999999999853\n",
      "9.009999999999852\n",
      "9.019999999999852\n",
      "9.029999999999852\n",
      "9.039999999999852\n",
      "9.049999999999851\n",
      "9.059999999999851\n",
      "9.069999999999851\n",
      "9.07999999999985\n",
      "9.08999999999985\n",
      "9.09999999999985\n",
      "9.10999999999985\n",
      "9.11999999999985\n",
      "9.12999999999985\n",
      "9.13999999999985\n",
      "9.14999999999985\n",
      "9.15999999999985\n",
      "9.169999999999849\n",
      "9.179999999999849\n",
      "9.189999999999849\n",
      "9.199999999999848\n",
      "9.209999999999848\n",
      "9.219999999999848\n",
      "9.229999999999848\n",
      "9.239999999999847\n",
      "9.249999999999847\n",
      "9.259999999999847\n",
      "9.269999999999847\n",
      "9.279999999999847\n",
      "9.289999999999846\n",
      "9.299999999999846\n",
      "9.309999999999846\n",
      "9.319999999999846\n",
      "9.329999999999846\n",
      "9.339999999999845\n",
      "9.349999999999845\n",
      "9.359999999999845\n",
      "9.369999999999845\n",
      "9.379999999999844\n",
      "9.389999999999844\n",
      "9.399999999999844\n",
      "9.409999999999844\n",
      "9.419999999999844\n",
      "9.429999999999843\n",
      "9.439999999999843\n",
      "9.449999999999843\n",
      "9.459999999999843\n",
      "9.469999999999843\n",
      "9.479999999999842\n",
      "9.489999999999842\n",
      "9.499999999999842\n",
      "9.509999999999842\n",
      "9.519999999999841\n",
      "9.529999999999841\n",
      "9.539999999999841\n",
      "9.54999999999984\n",
      "9.55999999999984\n",
      "9.56999999999984\n",
      "9.57999999999984\n",
      "9.58999999999984\n",
      "9.59999999999984\n",
      "9.60999999999984\n",
      "9.61999999999984\n",
      "9.62999999999984\n",
      "9.639999999999839\n",
      "9.649999999999839\n",
      "9.659999999999838\n",
      "9.669999999999838\n",
      "9.679999999999838\n",
      "9.689999999999838\n",
      "9.699999999999838\n",
      "9.709999999999837\n",
      "9.719999999999837\n",
      "9.729999999999837\n",
      "9.739999999999837\n",
      "9.749999999999837\n",
      "9.759999999999836\n",
      "9.769999999999836\n",
      "9.779999999999836\n",
      "9.789999999999836\n",
      "9.799999999999836\n",
      "9.809999999999835\n",
      "9.819999999999835\n",
      "9.829999999999835\n",
      "9.839999999999835\n",
      "9.849999999999834\n",
      "9.859999999999834\n",
      "9.869999999999834\n",
      "9.879999999999834\n",
      "9.889999999999834\n",
      "9.899999999999833\n",
      "9.909999999999833\n",
      "9.919999999999833\n",
      "9.929999999999833\n",
      "9.939999999999833\n",
      "9.949999999999832\n",
      "9.959999999999832\n",
      "9.969999999999832\n",
      "9.979999999999832\n",
      "9.989999999999831\n",
      "9.999999999999831\n",
      "10.009999999999831\n"
     ]
    }
   ],
   "source": [
    "t=0\n",
    "dt=0.01\n",
    "while t < 10.0:\n",
    "    t=t+dt\n",
    "    print(t)"
   ]
  },
  {
   "cell_type": "markdown",
   "metadata": {},
   "source": [
    "Just as we updated the clock using ``t=t+dt``, we also want to update the object's position. Physics tells us that the object's new position is given by:\n",
    "\n",
    "$$\\mbox{future position}  =   \\mbox{position now} + \\mbox{velocity} \\times \\mbox{time step}$$\n",
    "\n",
    "$$\\vec{r}_f = \\vec{r}_i + \\vec{v}\\Delta t$$\n",
    "\n",
    "This is called the *position update equation*. It says, \"take the current position of the object, add its displacement, and assign the future position of the object at the end of the time interval to the result.\" In Python the \"=\" sign is an *assignment* operator. It takes the result on the right side of the = sign and assigns its value to the variable on the left. \n",
    "\n",
    "In VPython, to update the position of the object named ``ball`` with velocity ``ball.v``, we will write\n",
    "\n",
    "```python\n",
    "\n",
    "ball.pos=ball.pos+ball.v*dt\n",
    "\n",
    "```\n",
    "\n",
    "You may have noticed that the ``while`` loop in the previous program ran much faster than real time. The clock counted from zero to 10 s in steps of 0.01 s faster than a real clock. For animation where the position of objects is updated, it is desirable to slow down the loop so you can observe the objects move. Inside the ``while`` loop, we will add a ``rate()`` statement to control how fast the loop iterates. In this program:\n",
    "\n",
    "```python\n",
    "\n",
    "t=0\n",
    "dt=0.01\n",
    "while t < 10.0:\n",
    "    rate(100)\n",
    "    t=t+dt\n",
    "    print(t)\n",
    "\n",
    "```\n",
    "\n",
    "``rate(100)`` tells the computer to run the loop 100 times in one second. Since $dt=0.01$ then this program should increment $t$ at approximately real time.\n",
    "\n",
    "Now, let's put all of this together to make our final program that models the motion of a ball moving with constant velocity. Run the program below. Note that there are three distinct parts of the program:\n",
    "\n",
    "1. create the 3D objects and scene\n",
    "2. define the velocity, clock reading, and time step\n",
    "3. use a loop to update position and clock reading"
   ]
  },
  {
   "cell_type": "code",
   "execution_count": 11,
   "metadata": {
    "collapsed": false
   },
   "outputs": [
    {
     "data": {
      "text/html": [
       "<div id=\"glowscript\" class=\"glowscript\"></div>"
      ],
      "text/plain": [
       "<IPython.core.display.HTML object>"
      ]
     },
     "metadata": {},
     "output_type": "display_data"
    },
    {
     "data": {
      "application/javascript": [
       "window.__context = { glowscript_container: $(\"#glowscript\").removeAttr(\"id\")}"
      ],
      "text/plain": [
       "<IPython.core.display.Javascript object>"
      ]
     },
     "metadata": {},
     "output_type": "display_data"
    }
   ],
   "source": [
    "#create the scene and 3D objects\n",
    "scene9=canvas(title=\"Ball on Track with Constant Velocity\")\n",
    "track=box(pos=vector(0,-0.075,0), size=vector(3,0.05,0.1), color=color.white)\n",
    "ball=sphere(pos=vector(-1.4,0,0), radius=0.05, color=color.orange)\n",
    "\n",
    "#define the velocity of the ball, the clock reading, and the time step\n",
    "ball.v=0.3*vector(1,0,0)\n",
    "dt=0.01\n",
    "t=0\n",
    "\n",
    "#use a while loop to update the position of the ball and clock after each time step\n",
    "while t<10:\n",
    "    rate(100)\n",
    "    ball.pos=ball.pos+ball.v*dt\n",
    "    t=t+dt\n"
   ]
  },
  {
   "cell_type": "markdown",
   "metadata": {},
   "source": [
    "## Graphing Computed Data"
   ]
  },
  {
   "cell_type": "markdown",
   "metadata": {},
   "source": [
    "To graph computed data using VPython, we must create a graph display and a create a curve. Then, as we update the position and clock reading in each time step, we will add a data point to the graph.\n",
    "\n",
    "To create a graph with a title and axis labels, use the ``graph()`` function.\n",
    "\n",
    "```python\n",
    "\n",
    "xGraph=graph(title=\"x(t) for a ball on a track\", xtitle='t (s)',ytitle='x (m)', width=400, height=150)\n",
    "\n",
    "```\n",
    "\n",
    "To create a curve, use the ``gcurve`` function.\n",
    "\n",
    "```python\n",
    "\n",
    "xtdata=gcurve(color=color.blue, graph=xGraph)\n",
    "\n",
    "```\n",
    "\n",
    "To add data points to this curve, use the ``plot()`` function.\n",
    "\n",
    "```python\n",
    "\n",
    "xtdata.plot(t,ball.pos.x)\n",
    "\n",
    "```\n",
    "\n",
    "Note that I have given names to the graph and the curve. This allows us to plot more than one curve on a graph or to create more than one graph. Also, remember that you cannot graph a vector. You can only graph scalars. Therefore, we must graph just the x-position of the ball ``ball.pos.x`` as a function of time. Altneratively, the y-position of the ball or z-position of the ball can be graphed, but not ``ball.pos`` because this is a vector.\n",
    "\n",
    "To observe this in action, run the program below."
   ]
  },
  {
   "cell_type": "code",
   "execution_count": 12,
   "metadata": {
    "collapsed": false
   },
   "outputs": [
    {
     "data": {
      "text/html": [
       "<div id=\"glowscript\" class=\"glowscript\"></div>"
      ],
      "text/plain": [
       "<IPython.core.display.HTML object>"
      ]
     },
     "metadata": {},
     "output_type": "display_data"
    },
    {
     "data": {
      "application/javascript": [
       "window.__context = { glowscript_container: $(\"#glowscript\").removeAttr(\"id\")}"
      ],
      "text/plain": [
       "<IPython.core.display.Javascript object>"
      ]
     },
     "metadata": {},
     "output_type": "display_data"
    }
   ],
   "source": [
    "#create the scene and objects\n",
    "scene10=canvas(title=\"Ball on Track with Constant Velocity\")\n",
    "track=box(pos=vector(0,-0.075,0), size=vector(3,0.05,0.1), color=color.white)\n",
    "ball=sphere(pos=vector(-1.4,0,0), radius=0.05, color=color.orange)\n",
    "\n",
    "#set the initial values for the velocity, time step, and clock reading.\n",
    "ball.v=0.3*vector(1,0,0)\n",
    "dt=0.01\n",
    "t=0\n",
    "\n",
    "#create a graph\n",
    "xGraph=graph(title=\"x(t) for a ball on a track\", xtitle='t (s)',ytitle='x (m)', width=600, height=200)\n",
    "\n",
    "#create curve\n",
    "xtdata=gcurve(color=color.blue, graph=xGraph)\n",
    "\n",
    "while t<10:\n",
    "    rate(100)\n",
    "\n",
    "    #update position and time\n",
    "    ball.pos=ball.pos+ball.v*dt\n",
    "    t=t+dt\n",
    "    \n",
    "    #plot a data point to the x(t) curve\n",
    "    xtdata.plot(t,ball.pos.x)    \n"
   ]
  },
  {
   "cell_type": "markdown",
   "metadata": {},
   "source": [
    "You will notice that the graph autoscales. This is sometimes distracting. It is possible to set the limits of the x and y axes of the graph using the parameters ``xmin``, ``xmax``, ``ymin``, and ``xmax``. In the program below, I use these parameters in the ``graph()`` function."
   ]
  },
  {
   "cell_type": "code",
   "execution_count": 13,
   "metadata": {
    "collapsed": false
   },
   "outputs": [
    {
     "data": {
      "text/html": [
       "<div id=\"glowscript\" class=\"glowscript\"></div>"
      ],
      "text/plain": [
       "<IPython.core.display.HTML object>"
      ]
     },
     "metadata": {},
     "output_type": "display_data"
    },
    {
     "data": {
      "application/javascript": [
       "window.__context = { glowscript_container: $(\"#glowscript\").removeAttr(\"id\")}"
      ],
      "text/plain": [
       "<IPython.core.display.Javascript object>"
      ]
     },
     "metadata": {},
     "output_type": "display_data"
    }
   ],
   "source": [
    "#create the scene and objects\n",
    "scene11=canvas(title=\"Ball on Track with Constant Velocity\")\n",
    "track=box(pos=vector(0,-0.075,0), size=vector(3,0.05,0.1), color=color.white)\n",
    "ball=sphere(pos=vector(-1.4,0,0), radius=0.05, color=color.orange)\n",
    "\n",
    "#set the initial values for the velocity, time step, and clock reading.\n",
    "ball.v=0.3*vector(1,0,0)\n",
    "dt=0.01\n",
    "t=0\n",
    "\n",
    "#create a graph\n",
    "xGraph=graph(title=\"x(t) for a ball on a track\", xtitle='t (s)',\n",
    "             xmin=0, xmax=10, ymin=-2, ymax=2,\n",
    "             ytitle='x (m)', width=600, height=200)\n",
    "\n",
    "#create curve\n",
    "xtdata=gcurve(color=color.blue, graph=xGraph)\n",
    "\n",
    "while t<10:\n",
    "    rate(100)\n",
    "\n",
    "    #update position and time\n",
    "    ball.pos=ball.pos+ball.v*dt\n",
    "    t=t+dt\n",
    "    \n",
    "    #plot a data point to the x(t) curve\n",
    "    xtdata.plot(t,ball.pos.x)    \n"
   ]
  },
  {
   "cell_type": "markdown",
   "metadata": {},
   "source": [
    "For complete VPython documentation, go to [glowscript.org](http://www.glowscript.org/docs/VPythonDocs/index.html). GlowScript is a web-based application for writing and running VPython. It uses Google authentication, so it requires a gmail account. Jupyter is a general editor that includes stylized text, mathematical markup, and live code. It works with all Python packages (that have been installed on the server). GlowScript is exclusively for writing and running VPython and is recommended for first-time VPython programmers."
   ]
  },
  {
   "cell_type": "code",
   "execution_count": null,
   "metadata": {
    "collapsed": true
   },
   "outputs": [],
   "source": []
  }
 ],
 "metadata": {
  "anaconda-cloud": {},
  "kernelspec": {
   "display_name": "VPython",
   "language": "python",
   "name": "vpython"
  },
  "language_info": {
   "codemirror_mode": {
    "name": "ipython",
    "version": 3
   },
   "file_extension": ".py",
   "mimetype": "text/x-python",
   "name": "python",
   "nbconvert_exporter": "python",
   "pygments_lexer": "ipython3",
   "version": "3.6.0"
  }
 },
 "nbformat": 4,
 "nbformat_minor": 0
}
