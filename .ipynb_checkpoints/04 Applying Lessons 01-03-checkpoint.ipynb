{
 "cells": [
  {
   "cell_type": "markdown",
   "metadata": {},
   "source": [
    "# Teaching Professional Computational Modeling Skills with Jupyter\n",
    "\n",
    "## Aaron Titus, High Point University\n"
   ]
  },
  {
   "cell_type": "markdown",
   "metadata": {},
   "source": [
    "# Introduction\n"
   ]
  },
  {
   "cell_type": "markdown",
   "metadata": {},
   "source": [
    "The purpose of this tutorial is to introduce you to Jupyter Notebook. \n",
    "\n",
    "Jupyter Notebook (formerly called iPython Notebook) is a web application (front-end) to create and share documents that contain live code, visualizations, and marked-up text and equations. Teachers can write tutorials, and students can write professional, interactive reports. Accessible to students and scalable to professionals, Jupyter Notebook is ideal for teaching computational modeling, data visualization, collaborative computing, and reporting."
   ]
  },
  {
   "cell_type": "markdown",
   "metadata": {},
   "source": [
    "# Applying Lessons 01-03:  Creating Your Own Notebook"
   ]
  },
  {
   "cell_type": "markdown",
   "metadata": {},
   "source": [
    "You have now learned:\n",
    "\n",
    "1. Markdown for typesetting text and equations\n",
    "2. VPython for computational modeling (simulations)\n",
    "3. Matplotlib, numpy,and scipy for graphing data and best-fit functions\n",
    "   \n",
    "In this tutorial, you will actually write your own tutorial. (That's circular reasoning for sure!) Let's choose projectile motion because it's a common topic in introductory physics.\n",
    "\n",
    "In the cells below, do the following.  Each item must have a heading.\n",
    "\n",
    "1. **Introduction to Projectile Motion**\n",
    "    1. Describe projectile motion\n",
    "    2. Include mathematical equations\n",
    "    3. Include images that you find through Google images\n",
    "    \n",
    "2. **Create a VPython simulation for a projectile.** \n",
    "\n",
    "    1. Here is a block of code to get you started. You can adjust the initial speed, angle, and sizes of 3D objects.\n",
    "    2. Add graphs for y(t) and v_y(t).\n",
    "\n",
    "    ```python\n",
    "\n",
    "    scene=canvas(title=\"Projectile Motion\", height=400, width=600)\n",
    "    floor = box(pos=vector(0,0,0), size=vector(10.0,0.05,10), color=color.green)\n",
    "    ball = sphere(pos=vector(-4.5,0.1,0), radius=0.4, color=color.white, opacity=0.5, make_trail=True)\n",
    "\n",
    "    ball.m = 0.8 #mass\n",
    "    theta=45*pi/180 #convert angle to rad\n",
    "    vi=10 #initial speed\n",
    "    ball.v = vector(vi*cos(theta),vi*sin(theta),0) #initial velocity\n",
    "    ball.p = ball.m * ball.v #initial momentum\n",
    "    g = vector(0,-9.8,0) #Earth's gravitational field\n",
    "\n",
    "    dt = 0.01\n",
    "    t = 0\n",
    "\n",
    "    #This line causes the scene to pause and wait for a mouse click before the program continues.\n",
    "    #  It allows the viewer to not miss the simulation while scrolling.\n",
    "    scene.waitfor(\"click\")\n",
    "\n",
    "    while ball.pos.y > 0:\n",
    "        rate(100)\n",
    "        Fnet=ball.m*g\n",
    "        ball.p=ball.p+Fnet/ball.m*dt\n",
    "        ball.v=ball.p/ball.m\n",
    "        ball.pos=ball.pos+ball.v*dt\n",
    "        t = t+dt\n",
    "\n",
    "    ```\n",
    "\n",
    "3. **Graph data**\n",
    "    1. Graph y-velocity as a function of time using the data for a basketball below.\n",
    "\n",
    "    ![basketball](./basketball.png)\n",
    "\n",
    "    2. Find the slope of the best-fit line for a graph of vy(t).\n",
    "\n",
    "```python\n",
    "\n",
    "datalist = \"\"\"\n",
    "0.03337606837606837\t4.238280053231032\n",
    "0.06675213675213675\t3.7296864468433064\n",
    "0.10012820512820514\t3.5601552447140654\n",
    "0.13350427350427344\t3.3906240425848297\n",
    "0.16688034188034184\t2.882030436197096\n",
    "0.20025641025641022\t2.3734368298093833\n",
    "0.23363247863247857\t2.2039056276801494\n",
    "0.2670085470085469\t1.864843223421646\n",
    "0.3003846153846154\t1.5257808191631757\n",
    "0.3337606837606838\t1.3562496170339395\n",
    "0.3671367521367521\t0.8476560106462008\n",
    "0.40051282051282044\t0.6781248085169602\n",
    "0.4338888888888888\t0.3390624042584801\n",
    "0.46726495726495715\t-0.0\n",
    "0.5006410256410255\t-0.3390624042584801\n",
    "0.5340170940170939\t-0.6781248085169584\n",
    "0.5673931623931624\t-1.0171872127754473\n",
    "0.6007692307692307\t-1.695312021292421\n",
    "0.634145299145299\t-1.8648432234216485\n",
    "0.6675213675213675\t-1.8648432234216532\n",
    "0.7008974358974358\t-2.2039056276801463\n",
    "0.7342735042735041\t-2.7124992340678578\n",
    "0.7676495726495726\t-2.8820304361970974\n",
    "0.801025641025641\t-3.221092840455592\n",
    "0.8344017094017093\t-3.8992176489725354\n",
    "0.8677777777777779\t-3.899217648972564\n",
    "0.9011538461538459\t-4.238280053231061\n",
    "0.9345299145299143\t-4.746873659618756\n",
    "0.9679059829059826\t-5.085936063877235\n",
    "1.001282051282051\t-5.594529670264931\n",
    "1.0346581196581197\t-5.424998468135724\n",
    "1.0680341880341877\t-5.424998468135724\n",
    "1.1014102564102564\t-6.272654478781898\n",
    "1.1347863247863248\t-6.781248085169665\n",
    "1.168162393162393\t-7.28984169155739\n",
    "1.2015384615384614\t-7.628904095815854\n",
    "1.2349145299145299\t-7.28984169155739\n",
    "1.268290598290598\t-7.628904095815885\n",
    "\"\"\".split('\\n') \n",
    "\n",
    "```"
   ]
  },
  {
   "cell_type": "code",
   "execution_count": null,
   "metadata": {
    "collapsed": true
   },
   "outputs": [],
   "source": []
  }
 ],
 "metadata": {
  "kernelspec": {
   "display_name": "Python 3",
   "language": "python",
   "name": "python3"
  },
  "language_info": {
   "codemirror_mode": {
    "name": "ipython",
    "version": 3
   },
   "file_extension": ".py",
   "mimetype": "text/x-python",
   "name": "python",
   "nbconvert_exporter": "python",
   "pygments_lexer": "ipython3",
   "version": "3.6.0"
  }
 },
 "nbformat": 4,
 "nbformat_minor": 0
}
