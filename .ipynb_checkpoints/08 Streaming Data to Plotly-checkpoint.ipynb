{
 "cells": [
  {
   "cell_type": "markdown",
   "metadata": {},
   "source": [
    "# Teaching Professional Computational Modeling Skills with Jupyter\n",
    "\n",
    "## Aaron Titus, High Point University\n"
   ]
  },
  {
   "cell_type": "markdown",
   "metadata": {},
   "source": [
    "# Introduction\n",
    "\n",
    "The purpose of this tutorial is to introduce you to Jupyter Notebook. \n",
    "\n",
    "Jupyter Notebook (formerly called iPython Notebook) is a web application (front-end) to create and share documents that contain live code, visualizations, and marked-up text and equations. Teachers can write tutorials, and students can write professional, interactive reports. Accessible to students and scalable to professionals, Jupyter Notebook is ideal for teaching computational modeling, data visualization, collaborative computing, and reporting."
   ]
  },
  {
   "cell_type": "markdown",
   "metadata": {},
   "source": [
    "# Reading Data from an Arduino\n",
    "\n",
    "In this tutorial, we will read and graph analog data from an Arduino. The package ``pyserial`` is used for serial communication with the Arduino.\n",
    "\n",
    "In this example, a joystick is connected to an Arduino. The U/D voltage of the joystick is plotted as a function of time."
   ]
  },
  {
   "cell_type": "markdown",
   "metadata": {
    "collapsed": true
   },
   "source": [
    "## Arduino Program\n",
    "\n",
    "Here is the program running on the Arduino. It listens for a character (from Python) and responds with the joystick voltage values for LR and UD.\n",
    "\n",
    "```arduino\n",
    "#define UD A0\n",
    "#define LR A1\n",
    "boolean done = false;\n",
    "int N; // number of measurements to make but one measurement is always returned in this program\n",
    "int LRvali; // initial LR value\n",
    "int UDvali; // initial UD value\n",
    "int LRval; //  LR value\n",
    "int UDval; //  UD value\n",
    "\n",
    "\n",
    "\n",
    "void setup() {\n",
    "  pinMode(13, OUTPUT);\n",
    "  Serial.begin(9600);\n",
    "  digitalWrite(13, LOW);   // turn the LED off\n",
    "  LRvali = analogRead(LR);\n",
    "  UDvali = analogRead(UD);\n",
    "}\n",
    "\n",
    "void loop() {\n",
    "    \tdone = false;\n",
    "    \n",
    "    \t// Check input on serial line.\n",
    "    \twhile (!done) {\n",
    "        //listen to Serial input\n",
    "    \t\tif (Serial.available()) {\t// Something is in the buffer\n",
    "    \t\t\tN = Serial.read();\t// so get the number byte\n",
    "    \t\t\tdone = true;\n",
    "    \t\t}\n",
    "    \t}\n",
    "\n",
    "      // get joystick values  \n",
    "      LRval = analogRead(LR);\n",
    "      UDval = analogRead(UD);\n",
    "\n",
    "      // write joystick values\n",
    "      Serial.print(LRval, DEC);\n",
    "      Serial.print('\\t');\n",
    "      Serial.print(UDval, DEC);\n",
    "      Serial.print('\\n');\n",
    "}\n",
    "```"
   ]
  },
  {
   "cell_type": "markdown",
   "metadata": {
    "collapsed": true
   },
   "source": [
    "## Python Program to Get Data from the Arduino and Stream to Plotly\n",
    "\n",
    "This requires having an account on Plotly. See this [tutorial](https://plot.ly/python/streaming-tutorial/) for setting up your ``.credentials`` file."
   ]
  },
  {
   "cell_type": "code",
   "execution_count": 1,
   "metadata": {
    "collapsed": true
   },
   "outputs": [],
   "source": [
    "import serial, sys, time\n",
    "import numpy as np\n",
    "import pandas as pd\n",
    "import plotly.plotly as py  \n",
    "import plotly.tools as tls   \n",
    "import plotly.graph_objs as go"
   ]
  },
  {
   "cell_type": "code",
   "execution_count": 2,
   "metadata": {
    "collapsed": false
   },
   "outputs": [],
   "source": [
    "# Get stream id from stream id list \n",
    "stream_ids = tls.get_credentials_file()['stream_ids']\n",
    "stream_id = stream_ids[0]\n",
    "\n",
    "# Make instance of stream id object \n",
    "stream_1 = go.Stream(\n",
    "    token=stream_id  # link stream id to 'token' key\n",
    ")\n",
    "\n",
    "# Initialize trace of streaming plot by embedding the unique stream_id\n",
    "trace1 = go.Scatter(\n",
    "    x=[],\n",
    "    y=[],\n",
    "    mode='lines+markers',\n",
    "    stream=stream_1         # (!) embed stream id, 1 per trace\n",
    ")\n",
    "\n",
    "data = go.Data([trace1])\n",
    "\n",
    "# Add title to layout object\n",
    "layout = go.Layout(title='UD Voltage')\n",
    "\n",
    "# Make a figure object\n",
    "fig = go.Figure(data=data, layout=layout)\n",
    "\n",
    "# Send fig to Plotly, initialize streaming plot, open new tab\n",
    "py.iplot(fig, filename='Joystick UD Voltage as a Function of Time')\n",
    "\n",
    "\n",
    "# We will provide the stream link object the same token that's associated with the trace we wish to stream to\n",
    "s = py.Stream(stream_id)\n",
    "\n",
    "# We then open a connection\n",
    "s.open()"
   ]
  },
  {
   "cell_type": "code",
   "execution_count": 20,
   "metadata": {
    "collapsed": false
   },
   "outputs": [
    {
     "ename": "KeyboardInterrupt",
     "evalue": "",
     "output_type": "error",
     "traceback": [
      "\u001b[0;31m---------------------------------------------------------------------------\u001b[0m",
      "\u001b[0;31mKeyboardInterrupt\u001b[0m                         Traceback (most recent call last)",
      "\u001b[0;32m<ipython-input-20-624f267bd5dc>\u001b[0m in \u001b[0;36m<module>\u001b[0;34m()\u001b[0m\n\u001b[1;32m     34\u001b[0m     \u001b[0;31m#     write lists to overwrite existing data on plot\u001b[0m\u001b[0;34m\u001b[0m\u001b[0;34m\u001b[0m\u001b[0m\n\u001b[1;32m     35\u001b[0m \u001b[0;34m\u001b[0m\u001b[0m\n\u001b[0;32m---> 36\u001b[0;31m     \u001b[0mtime\u001b[0m\u001b[0;34m.\u001b[0m\u001b[0msleep\u001b[0m\u001b[0;34m(\u001b[0m\u001b[0;36m0.1\u001b[0m\u001b[0;34m)\u001b[0m  \u001b[0;31m# sleep in seconds\u001b[0m\u001b[0;34m\u001b[0m\u001b[0m\n\u001b[0m\u001b[1;32m     37\u001b[0m \u001b[0;34m\u001b[0m\u001b[0m\n\u001b[1;32m     38\u001b[0m \u001b[0ms\u001b[0m\u001b[0;34m.\u001b[0m\u001b[0mclose\u001b[0m\u001b[0;34m(\u001b[0m\u001b[0;34m)\u001b[0m\u001b[0;34m\u001b[0m\u001b[0m\n",
      "\u001b[0;31mKeyboardInterrupt\u001b[0m: "
     ]
    }
   ],
   "source": [
    "def getData(s):\n",
    "    ser.write(bytes(1))\n",
    "    line = ser.readline()\n",
    "    data = line.split()\n",
    "    LR = int(data[0])\n",
    "    UD = int(data[1])\n",
    "    #print(str(LR)+\"\\t\"+str(UD))\n",
    "    return [LR,UD]\n",
    "\n",
    "baud=9600 #baud rate (bits per second.)\n",
    "TO=5 #timeout in sec\n",
    "\n",
    "#arduino 1\n",
    "port = '/dev/cu.usbmodem1411'\n",
    "ser = serial.Serial(port, baud, timeout=TO)\n",
    "\n",
    "#this delay helped in the past\n",
    "time.sleep(2)     #2ms delay\n",
    "\n",
    "start=time.time()\n",
    "while True:\n",
    "    results=getData(ser)  #gets result from arduino[1] \n",
    "\n",
    "    # Current time on x-axis, random numbers on y-axis\n",
    "    x = time.time()-start\n",
    "    y = results[1]\n",
    "    \n",
    "#    print(x,y)\n",
    "\n",
    "    # Send data to your plot\n",
    "    s.write(dict(x=x, y=y))\n",
    "\n",
    "    #     Write numbers to stream to append current data on plot,\n",
    "    #     write lists to overwrite existing data on plot\n",
    "\n",
    "    time.sleep(0.1)  # sleep in seconds  \n",
    "    \n",
    "s.close()"
   ]
  },
  {
   "cell_type": "code",
   "execution_count": null,
   "metadata": {
    "collapsed": true
   },
   "outputs": [],
   "source": []
  }
 ],
 "metadata": {
  "kernelspec": {
   "display_name": "Python 3",
   "language": "python",
   "name": "python3"
  },
  "language_info": {
   "codemirror_mode": {
    "name": "ipython",
    "version": 3
   },
   "file_extension": ".py",
   "mimetype": "text/x-python",
   "name": "python",
   "nbconvert_exporter": "python",
   "pygments_lexer": "ipython3",
   "version": "3.6.0"
  }
 },
 "nbformat": 4,
 "nbformat_minor": 2
}
