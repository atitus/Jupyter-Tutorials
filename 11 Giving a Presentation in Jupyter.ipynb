{
 "cells": [
  {
   "cell_type": "markdown",
   "metadata": {
    "slideshow": {
     "slide_type": "slide"
    }
   },
   "source": [
    "# 11 Giving a Presentation in Jupyter"
   ]
  },
  {
   "cell_type": "markdown",
   "metadata": {
    "slideshow": {
     "slide_type": "slide"
    }
   },
   "source": [
    "#  Preamble\n",
    "\n",
    "This notebook is a presentation. If you follow the directions for **Installation** and **Presenting**, you can view this notebook as a presentation."
   ]
  },
  {
   "cell_type": "markdown",
   "metadata": {
    "slideshow": {
     "slide_type": "slide"
    }
   },
   "source": [
    "To give a presentation in Jupyter, I suggest using the [RISE package](https://github.com/damianavila/RISE).\n",
    "\n",
    "## Installation\n",
    "\n",
    "Download the package from [github](https://github.com/damianavila/RISE) and follow the installation instructions. If you use Anaconda, install using\n",
    "\n",
    "    conda install -c damianavila82 rise"
   ]
  },
  {
   "cell_type": "markdown",
   "metadata": {
    "slideshow": {
     "slide_type": "slide"
    }
   },
   "source": [
    "## Configuration\n",
    "\n",
    "The biggest problem with RISE presentations in Jupyter is the lack of vertical scrolling for a slide. If you run code, like a VPython program, during your presentation, it may create a scene that exceeds the vertical size of the slide. To add a scrollbar:\n",
    "\n",
    "- Open the following file in a text editor:\n",
    "```\n",
    "anaconda/share/jupyter/nbextensions/rise/main.js\n",
    "```\n",
    " Note that the path should reflect the appropriate path to the anaconda distribution on your computer computer. You may have to search for the file `main.js`.\n"
   ]
  },
  {
   "cell_type": "markdown",
   "metadata": {
    "slideshow": {
     "slide_type": "subslide"
    }
   },
   "source": [
    "-  In that file (main.js), there is a variable called default_config. It looks like this:\n",
    "\n",
    "```\n",
    "  var default_config = {\n",
    "      controls: true,\n",
    "      progress: true,\n",
    "      history: true,\n",
    "      width: \"100%\",\n",
    "      height: \"100%\",\n",
    "      margin: 0.1,\n",
    "      minScale: 1.0, //we need this for codemirror to work right\n",
    "      theme: 'simple',\n",
    "      transition: 'linear',\n",
    "      slideNumber: true,\n",
    "      start_slideshow_at: ‘beginning',\n",
    "      scroll: false,\n",
    "      center: true\n",
    "  };\n",
    "```\n",
    "\n",
    "Change the value of `scroll` to `true` so it is:\n",
    "\n",
    "```\n",
    "scroll: true\n",
    "```\n",
    "\n",
    "In addition, I like to change the value of `start_slideshow_at` to:\n",
    "\n",
    "```\n",
    "start_slideshow_at: ‘beginning'\n",
    "```\n",
    "\n",
    "so that the slideshow begins with the current cell selected in the notebook.\n"
   ]
  },
  {
   "cell_type": "markdown",
   "metadata": {
    "slideshow": {
     "slide_type": "subslide"
    }
   },
   "source": [
    "## Other Themes and Transitions\n",
    "\n",
    "There are other themes and slide transitions that are available as well. I personally prefer the default theme and transition.\n",
    "\n",
    "Here are themes that might work: \"default\", \"simple\", \"sky\", \"beige\", \"serif\", \"solarized\", \"blood\", \"moon\", \"night\", \"black\", \"league\" or \"white\".\n",
    "\n",
    "Available transitions are \"default\", \"fade\", \"slide\", \"convex\", \"concave\", \"zoom\" or \"none\".\n"
   ]
  },
  {
   "cell_type": "markdown",
   "metadata": {
    "slideshow": {
     "slide_type": "slide"
    }
   },
   "source": [
    "## Creating Slides\n",
    "\n",
    "After installing RISE, start jupyter. \n",
    "\n",
    "Go to the menu View->Cell Toolbar->Slideshow as shown below.\n",
    "\n",
    "<img src=\"11-files/slideshow-toolbar.png\" width=700>\n"
   ]
  },
  {
   "cell_type": "markdown",
   "metadata": {
    "slideshow": {
     "slide_type": "subslide"
    }
   },
   "source": [
    "This creates a toolbar for each cell that has a menu for defining how the cell will be displayed during the slideshow.\n",
    "\n",
    "<img src=\"11-files/slide-menu.png\" width=200>"
   ]
  },
  {
   "cell_type": "markdown",
   "metadata": {
    "slideshow": {
     "slide_type": "subslide"
    }
   },
   "source": [
    "It helps if you think of your presentation as an outline.\n"
   ]
  },
  {
   "cell_type": "markdown",
   "metadata": {
    "slideshow": {
     "slide_type": "fragment"
    }
   },
   "source": [
    "- The **Slide** type is displayed as an individual slide and is organizationally a main slide, under which there will be subslides."
   ]
  },
  {
   "cell_type": "markdown",
   "metadata": {
    "slideshow": {
     "slide_type": "fragment"
    }
   },
   "source": [
    "- The **Sub-Slide** type is displayed as an individual slide, but organizationally comes under another slide."
   ]
  },
  {
   "cell_type": "markdown",
   "metadata": {
    "slideshow": {
     "slide_type": "fragment"
    }
   },
   "source": [
    "- When presented, the **Fragment** will appear on the previous slide. It is like text or an image that flies in from the side or suddently appears in a PowerPoint slide."
   ]
  },
  {
   "cell_type": "markdown",
   "metadata": {
    "slideshow": {
     "slide_type": "fragment"
    }
   },
   "source": [
    "- If you designate a cell as **Skip** then it will not appear in the presentation."
   ]
  },
  {
   "cell_type": "markdown",
   "metadata": {
    "slideshow": {
     "slide_type": "fragment"
    }
   },
   "source": [
    "Now, create cells for a presentation."
   ]
  },
  {
   "cell_type": "markdown",
   "metadata": {
    "slideshow": {
     "slide_type": "slide"
    }
   },
   "source": [
    "## Presenting\n",
    "\n",
    "In your toolbar, you should see an icon on the right side that looks like a bar chart, as pointed out below by the red arrow.\n",
    "    \n",
    "![](11-files/toolbar.png)\n",
    "\n",
    "Click this icon to start your presentation. A CSS will change your notebook so the cells display full screen."
   ]
  }
 ],
 "metadata": {
  "celltoolbar": "Slideshow",
  "kernelspec": {
   "display_name": "Python 3",
   "language": "python",
   "name": "python3"
  },
  "language_info": {
   "codemirror_mode": {
    "name": "ipython",
    "version": 3
   },
   "file_extension": ".py",
   "mimetype": "text/x-python",
   "name": "python",
   "nbconvert_exporter": "python",
   "pygments_lexer": "ipython3",
   "version": "3.6.1"
  }
 },
 "nbformat": 4,
 "nbformat_minor": 2
}
