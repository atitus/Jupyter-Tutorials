{
 "cells": [
  {
   "cell_type": "markdown",
   "metadata": {},
   "source": [
    "# Using Jupyter Notebook to Teach Physics with Computation\n",
    "\n",
    "The following tutorials will help you learn aspects of markdown and Python so you and your students can use Jupyter as a tool in both physics education and research.\n",
    "\n",
    "Jupyter Notebook (formerly called iPython Notebook) is a web application (front-end) to create and share documents that contain live code, visualizations, and marked-up text and equations. Teachers can write tutorials, and students can write professional, interactive reports. Accessible to students and scalable to professionals, Jupyter Notebook is ideal for teaching computational modeling, data visualization, collaborative computing, and reporting.\n",
    "\n",
    "Jupyter allows teachers and students to write **data-driven and code-driven narratives.** The key word in this phrase is \"narratives.\" If you are looking for an IDE, there are many high-quality development environments better than Jupyter. The benefit of Jupyter is integrating data, code, and narrative.\n",
    "\n",
    "These tutorials began as a workshop at a [ 2016 conference at MICDS in St. Louis](http://stlinstl.org/). They were updated and improved for a workshopo at the AAPT Meeting in Summer 2017. I added additional tutorials based on projects my students have done. They are a work in progress.\n",
    "\n",
    "Some of the tutorials require you to install the following packages:\n",
    "\n",
    "- [VPython](https://github.com/BruceSherwood/vpython-jupyter) for 3D graphics and vector algebra.\n",
    "- pyserial for communication with an Arduino.\n",
    "- [plotly](https://plot.ly/) for interactive graphs and streaming.\n",
    "\n",
    "These tutorials have been influenced by Ruth Chabay, Bruce Sherwood, Doug Blank, and Steve Spicklemire. Credit is generally given in the tutorial that was influenced by their work. In some cases, code snippets were gleaned from Plotly, matplotlib, and other sites.\n",
    "\n",
    "## Notebooks\n",
    "\n",
    "- [Markdown](01%20Markdown.ipynb)\n",
    "- [VPython](02%20VPython.ipynb)\n",
    "- [Graphing Data with Matplotlib](03%20Graphing%20Data%20with%20Matplotlib.ipynb)\n",
    "- [Reading and Graphing Data from a File](04%20Reading%20and%20Graphing%20Data%20from%20a%20File.ipynb)\n",
    "- [Graphing Data with Plotly](05.1%20Graphing%20Data%20with%20Plotly.ipynb)\n",
    "- [Creating a 3D Surface Plot with Plotly](05.2%20Creating%20a%203D%20Surface%20Plot%20with%20Plotly.ipynb)\n",
    "- [Streaming Data to Plotly](05.3%20Streaming%20Data%20to%20Plotly.ipynb)\n",
    "- [Reading Data from an Arduino](06%20Reading%20Data%20from%20an%20Arduino.ipynb)\n",
    "- [Curve Fitting](07%20Curve%20Fitting.ipynb)\n",
    "- [Embedding Video](08%20Embedding%20Video.ipynb)\n",
    "- [Complex Numbers](09%20Complex%20Numbers.ipynb)\n",
    "- [Sharing Your Notebook](10%20Sharing%20Your%20Notebook.ipynb)"
   ]
  },
  {
   "cell_type": "code",
   "execution_count": null,
   "metadata": {
    "collapsed": true
   },
   "outputs": [],
   "source": []
  }
 ],
 "metadata": {
  "kernelspec": {
   "display_name": "Python 3",
   "language": "python",
   "name": "python3"
  },
  "language_info": {
   "codemirror_mode": {
    "name": "ipython",
    "version": 3
   },
   "file_extension": ".py",
   "mimetype": "text/x-python",
   "name": "python",
   "nbconvert_exporter": "python",
   "pygments_lexer": "ipython3",
   "version": "3.6.0"
  }
 },
 "nbformat": 4,
 "nbformat_minor": 2
}
