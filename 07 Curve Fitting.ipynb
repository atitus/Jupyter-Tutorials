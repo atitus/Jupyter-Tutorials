{
 "cells": [
  {
   "cell_type": "markdown",
   "metadata": {
    "collapsed": true
   },
   "source": [
    "# Computing and Graphing a Best-Fit Curve"
   ]
  },
  {
   "cell_type": "markdown",
   "metadata": {},
   "source": [
    "In this notebook, we will graph data and calculate the best-fit curve."
   ]
  },
  {
   "cell_type": "markdown",
   "metadata": {},
   "source": [
    "## Graphing the Data\n",
    "\n",
    "Import the `numpy` package to store data in arrays and `matplotlib` to make the graph."
   ]
  },
  {
   "cell_type": "code",
   "execution_count": 1,
   "metadata": {
    "collapsed": true
   },
   "outputs": [],
   "source": [
    "from numpy import *\n",
    "import matplotlib.pyplot as plt"
   ]
  },
  {
   "cell_type": "markdown",
   "metadata": {},
   "source": [
    "Use a magic command so the graph appears in the notebook."
   ]
  },
  {
   "cell_type": "code",
   "execution_count": 2,
   "metadata": {
    "collapsed": true
   },
   "outputs": [],
   "source": [
    "%matplotlib inline"
   ]
  },
  {
   "cell_type": "markdown",
   "metadata": {},
   "source": [
    "Now, we need a data set. Let's use $x(t)$ for a steel ball rolling on a level track. The data below was copied and pasted from Tracker video analysis software."
   ]
  },
  {
   "cell_type": "code",
   "execution_count": 3,
   "metadata": {
    "collapsed": false
   },
   "outputs": [
    {
     "data": {
      "image/png": "[encoded data removed]",
      "text/plain": [
       "<matplotlib.figure.Figure at 0x10c8e5f98>"
      ]
     },
     "metadata": {},
     "output_type": "display_data"
    }
   ],
   "source": [
    "#\n",
    "# Paste the data you wish to graph in tab-delimited rows in the format:\n",
    "#\n",
    "#       xdata <tab> ydata\n",
    "#\n",
    "# In this example, the x data is time (s) and y data is \n",
    "# x-position (m).\n",
    "#\n",
    "\n",
    "datalist = \"\"\"\n",
    "0\t-0.003\n",
    "0.334\t0.171\n",
    "0.667\t0.346\n",
    "1.001\t0.527\n",
    "1.335\t0.698\n",
    "1.668\t0.872\n",
    "2.002\t1.05\n",
    "2.336\t1.232\n",
    "2.669\t1.403\n",
    "3.003\t1.57\n",
    "3.337\t1.741\n",
    "\"\"\".split('\\n') \n",
    "\n",
    "#\n",
    "# Take the list of strings defined above and store it as numbers in lists. \n",
    "#\n",
    "\n",
    "tlist = [] # time data\n",
    "xlist = [] # x position data\n",
    "\n",
    "for s in datalist: #s represents a single row of data\n",
    "    if s:\n",
    "        t,x = s.split()     # split the string into two strings\n",
    "        t=float(t)          # convert time string to float\n",
    "        x=float(x)          # convert x string to float\n",
    "        tlist.append(t)     # store time in a list\n",
    "        xlist.append(x)     # store x in a list\n",
    "        \n",
    "#\n",
    "# Plot data in a graph\n",
    "#\n",
    "\n",
    "#\n",
    "# Graph data\n",
    "#\n",
    "\n",
    "plt.title('x(t) for a steel ball rolling with constant velocity on a level track')\n",
    "plt.xlabel('t (s)')\n",
    "plt.ylabel('x (m)')\n",
    "plt.plot(tlist,xlist,'co')\n",
    "plt.show()"
   ]
  },
  {
   "cell_type": "markdown",
   "metadata": {},
   "source": [
    "## Computing the Best-Fit Curve"
   ]
  },
  {
   "cell_type": "markdown",
   "metadata": {},
   "source": [
    "We have to import the ``curve_fit`` function from the package ``scipy.optimize`` to compute the best-fit line. We will use matplotlib and numpy for the data and graph."
   ]
  },
  {
   "cell_type": "code",
   "execution_count": 4,
   "metadata": {
    "collapsed": true
   },
   "outputs": [],
   "source": [
    "from scipy.optimize import curve_fit"
   ]
  },
  {
   "cell_type": "markdown",
   "metadata": {},
   "source": [
    "Since our data is linear, I'll use the venerable\n",
    "\n",
    "$$y=mx+b$$\n",
    "\n",
    "as my equation for a line. Create a function that takes an array of data for x values and returns the y values."
   ]
  },
  {
   "cell_type": "code",
   "execution_count": 5,
   "metadata": {
    "collapsed": true
   },
   "outputs": [],
   "source": [
    "#function takes an array of x values and returns an array of y values\n",
    "#  where y=mx+b\n",
    "def func(x, m, b):\n",
    "    return m*x+b #linear function"
   ]
  },
  {
   "cell_type": "markdown",
   "metadata": {},
   "source": [
    "Now convert our lists of data, ``tlist`` and ``xlist``, to arrays ``xarray`` and ``yarray``. Note that time is on the horizontal axis and x-position is on the vertical axis of our graph.\n",
    "\n",
    "Then pass these arrays along with our best-fit function named ``func`` (which is a line) to ``curve_fit()``. It returns the values of the constants (m and b in this case) for the best fit line as a list, along with statistical measures for each of the constants.  For now, I will ignore the statistics and just get the constants which I will call ``mbest`` and ``bbest``."
   ]
  },
  {
   "cell_type": "code",
   "execution_count": 6,
   "metadata": {
    "collapsed": false
   },
   "outputs": [
    {
     "name": "stdout",
     "output_type": "stream",
     "text": [
      "Best fit: m= 0.5244386582  and b= -0.00159075185516\n"
     ]
    }
   ],
   "source": [
    "#convert list to a numpy array\n",
    "yarray=asarray(xlist)\n",
    "xarray=asarray(tlist)\n",
    "constants, stats = curve_fit(func, xarray, yarray)\n",
    "\n",
    "#constants is a list\n",
    "mbest=constants[0] #slope\n",
    "bbest=constants[1] #intercept\n",
    "\n",
    "print(\"Best fit: m=\",mbest,\" and b=\",bbest)"
   ]
  },
  {
   "cell_type": "markdown",
   "metadata": {},
   "source": [
    "We can pass these best-fit values back to our function, obtain the array of best-fit y values, and then graph the best-fit data points along with our measured data points."
   ]
  },
  {
   "cell_type": "code",
   "execution_count": 7,
   "metadata": {
    "collapsed": false
   },
   "outputs": [
    {
     "data": {
      "image/png": "[encoded data removed]",
      "text/plain": [
       "<matplotlib.figure.Figure at 0x112a32048>"
      ]
     },
     "metadata": {},
     "output_type": "display_data"
    }
   ],
   "source": [
    "ybest=func(xarray,mbest,bbest) #y values for best fit function\n",
    "\n",
    "plt.title('x(t) for a steel ball rolling with constant velocity on a level track')\n",
    "plt.xlabel('t (s)')\n",
    "plt.ylabel('x (m)')\n",
    "plt.plot(tlist,xlist,'co',tlist,ybest,'r-')\n",
    "plt.show()"
   ]
  },
  {
   "cell_type": "markdown",
   "metadata": {},
   "source": [
    "Once again, there is nothing special here about a line. We can define whatever function we want in ``func()`` so we could certainly obtain a best fit quadratic or exponential for example."
   ]
  },
  {
   "cell_type": "code",
   "execution_count": null,
   "metadata": {
    "collapsed": true
   },
   "outputs": [],
   "source": []
  }
 ],
 "metadata": {
  "kernelspec": {
   "display_name": "Python 3",
   "language": "python",
   "name": "python3"
  },
  "language_info": {
   "codemirror_mode": {
    "name": "ipython",
    "version": 3
   },
   "file_extension": ".py",
   "mimetype": "text/x-python",
   "name": "python",
   "nbconvert_exporter": "python",
   "pygments_lexer": "ipython3",
   "version": "3.6.0"
  }
 },
 "nbformat": 4,
 "nbformat_minor": 2
}
