{
 "cells": [
  {
   "cell_type": "markdown",
   "metadata": {},
   "source": [
    "# Complex Numbers\n",
    "\n",
    "You will need the ``cmath`` package. However, if you import VPython, then you will have the ``cmath`` package.\n",
    "\n",
    "As a resource, see Steve Spicklemire's [Quantum Mechanics notebooks](https://github.com/sspickle/qm-computing-projects)."
   ]
  },
  {
   "cell_type": "code",
   "execution_count": 1,
   "metadata": {
    "collapsed": false
   },
   "outputs": [],
   "source": [
    "from cmath import *"
   ]
  },
  {
   "cell_type": "code",
   "execution_count": 2,
   "metadata": {
    "collapsed": false
   },
   "outputs": [
    {
     "name": "stdout",
     "output_type": "stream",
     "text": [
      "z is a complex number: (3+4j)\n",
      "The real part of z is  3.0\n",
      "The imaginary part of z is  4.0\n",
      "The magnitude of a complex number is  5.0\n"
     ]
    }
   ],
   "source": [
    "z=3+4j\n",
    "print(\"z is a complex number:\", z)\n",
    "print(\"The real part of z is \", z.real)\n",
    "print(\"The imaginary part of z is \", z.imag)\n",
    "print(\"The magnitude of a complex number is \", abs(z))"
   ]
  },
  {
   "cell_type": "code",
   "execution_count": 3,
   "metadata": {
    "collapsed": false
   },
   "outputs": [
    {
     "name": "stdout",
     "output_type": "stream",
     "text": [
      "(1+2j)\n",
      "(9+12j)\n"
     ]
    }
   ],
   "source": [
    "#define the variable i\n",
    "i=1j\n",
    "\n",
    "#use complex numbers in calculations\n",
    "c=1+2*i\n",
    "print(c)\n",
    "\n",
    "a=2\n",
    "z2=a*z+z\n",
    "\n",
    "print(z2)"
   ]
  },
  {
   "cell_type": "code",
   "execution_count": 6,
   "metadata": {
    "collapsed": false
   },
   "outputs": [
    {
     "name": "stdout",
     "output_type": "stream",
     "text": [
      "z is a complex number: (3+4j)\n",
      "z* is the complex conjugate: (3-4j)\n"
     ]
    }
   ],
   "source": [
    "#complex conjugate\n",
    "print(\"z is a complex number:\", z)\n",
    "zstar=z.conjugate()\n",
    "print(\"z* is the complex conjugate:\", zstar)"
   ]
  },
  {
   "cell_type": "code",
   "execution_count": 7,
   "metadata": {
    "collapsed": false
   },
   "outputs": [
    {
     "name": "stdout",
     "output_type": "stream",
     "text": [
      "z expressed in polar form as a list: (5.0, 0.9272952180016122)\n"
     ]
    }
   ],
   "source": [
    "#polar form\n",
    "zpolar=polar(z)\n",
    "print(\"z expressed in polar form as a list:\", zpolar)"
   ]
  },
  {
   "cell_type": "code",
   "execution_count": 8,
   "metadata": {
    "collapsed": false
   },
   "outputs": [
    {
     "name": "stdout",
     "output_type": "stream",
     "text": [
      "z calculated in polar form as an exponential: (3.0000000000000004+3.9999999999999996j)\n"
     ]
    }
   ],
   "source": [
    "#exponential\n",
    "z3=zpolar[0]*exp(i*zpolar[1])\n",
    "print(\"z calculated in polar form as an exponential:\", z3)"
   ]
  },
  {
   "cell_type": "code",
   "execution_count": null,
   "metadata": {
    "collapsed": true
   },
   "outputs": [],
   "source": []
  }
 ],
 "metadata": {
  "kernelspec": {
   "display_name": "Python 3",
   "language": "python",
   "name": "python3"
  },
  "language_info": {
   "codemirror_mode": {
    "name": "ipython",
    "version": 3
   },
   "file_extension": ".py",
   "mimetype": "text/x-python",
   "name": "python",
   "nbconvert_exporter": "python",
   "pygments_lexer": "ipython3",
   "version": "3.6.0"
  }
 },
 "nbformat": 4,
 "nbformat_minor": 2
}
