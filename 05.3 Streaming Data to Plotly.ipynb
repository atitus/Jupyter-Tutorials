{
 "cells": [
  {
   "cell_type": "markdown",
   "metadata": {},
   "source": [
    "# Streaming Data to Plotly"
   ]
  },
  {
   "cell_type": "markdown",
   "metadata": {},
   "source": [
    "If you are reading data for a long time for an experiment that runs for a few hours or days, then you may wish to monitor your data online from a remote location.\n",
    "\n",
    "To accomplish such a task, you will have to periodically read the data and then stream the data to a web server. The `plotly` package is the perfect tool for this task. \n",
    "\n",
    "In a later tutorial, I discuss reading data from an Arduino using `pyserial`. Presumably this data could then be streamed. However, in this tutorial I will simply calculate a quantity (instead of reading a value from a sensor) and stream it. "
   ]
  },
  {
   "cell_type": "markdown",
   "metadata": {},
   "source": [
    "## Plotly Account and Stream Tokens\n",
    "\n",
    "Streaming data requires having an account on Plotly and requires creating a stream token in your account. See this [tutorial](https://plot.ly/python/streaming-tutorial/) for setting up your ``.credentials`` file that contains your username, key, and stream tokens. Each data stream should have its own stream token. This is the unique identifier that connects your Python program to a particular graph  on the plot.ly site. Stream tokens are called `stream_ids` in your credentials file.\n",
    "\n",
    "It is possible to enter credentials (including stream tokens) as a string in your code; however, if you share your code, then you will allow others to stream data to your account. Therefore, to maintain security, I recommend storing your username, key, and stream_ids in a ``.credentials`` file on your local computer."
   ]
  },
  {
   "cell_type": "markdown",
   "metadata": {
    "collapsed": true
   },
   "source": [
    "## Python Program\n",
    "\n",
    "After obtaining a stream token and creating your credentials file according to the tutorial at plot.ly, continue writing your Python program.\n",
    "\n",
    "First, import packages."
   ]
  },
  {
   "cell_type": "code",
   "execution_count": null,
   "metadata": {
    "collapsed": true
   },
   "outputs": [],
   "source": [
    "import plotly.plotly as py  \n",
    "import plotly.tools as tls   \n",
    "import plotly.graph_objs as go\n",
    "import numpy as np\n",
    "import time"
   ]
  },
  {
   "cell_type": "markdown",
   "metadata": {},
   "source": [
    "Get the stream token."
   ]
  },
  {
   "cell_type": "code",
   "execution_count": 7,
   "metadata": {
    "collapsed": false
   },
   "outputs": [],
   "source": [
    "# Get stream id from stream id list \n",
    "stream_ids = tls.get_credentials_file()['stream_ids']\n",
    "stream_id = stream_ids[0]\n",
    "\n",
    "# Make instance of stream id object \n",
    "stream_1 = go.Stream(\n",
    "    token=stream_id  # link stream id to 'token' key\n",
    ")\n"
   ]
  },
  {
   "cell_type": "markdown",
   "metadata": {
    "collapsed": false
   },
   "source": [
    "Initialize the plotly graph. Set up the trace, label axes, create the title, etc. Then open the connection."
   ]
  },
  {
   "cell_type": "code",
   "execution_count": 11,
   "metadata": {
    "collapsed": false
   },
   "outputs": [],
   "source": [
    "# Initialize trace of streaming plot by embedding the unique stream_id\n",
    "trace1 = go.Scatter(\n",
    "    x=[],\n",
    "    y=[],\n",
    "    mode='lines+markers',\n",
    "    stream=stream_1         # (!) embed stream id, 1 per trace\n",
    ")\n",
    "\n",
    "data = go.Data([trace1])\n",
    "\n",
    "# Add title to layout object\n",
    "layout = go.Layout(title='cos(omega*t)')\n",
    "\n",
    "# Make a figure object\n",
    "fig = go.Figure(data=data, layout=layout)\n",
    "\n",
    "# Send fig to plot.ly, initialize streaming plot\n",
    "py.iplot(fig, filename='cosine function')\n",
    "\n",
    "# We will provide the stream link object the same token that's associated with the trace we wish to stream to\n",
    "s = py.Stream(stream_id)\n",
    "\n",
    "# We then open a connection\n",
    "s.open()"
   ]
  },
  {
   "cell_type": "markdown",
   "metadata": {},
   "source": [
    "If you are reading data from an Arduino or an interface connected to the computer, then you should add a function to read the data. In a later tutorial, I demonstrate how to read data from an Arduino using the `pyserial` package. In this case, we will simply calculate $cos(\\omega t)$ and stream the result to the plot.ly site. "
   ]
  },
  {
   "cell_type": "code",
   "execution_count": null,
   "metadata": {
    "collapsed": false
   },
   "outputs": [],
   "source": [
    "start=time.time()\n",
    "omega = np.pi #angular frequency in rad/s\n",
    "\n",
    "while True:\n",
    "\n",
    "    # Current time on horizontal axis, cos(omega*t) on the vertical axis\n",
    "    t = time.time()-start\n",
    "    f = np.cos(omega*t)\n",
    "    \n",
    "    # Send data to your plot\n",
    "    #     Write numbers to stream to append current data on plot,\n",
    "    #     write lists to overwrite existing data on plot\n",
    "    s.write(dict(x=t, y=f))\n",
    "\n",
    "    time.sleep(0.1)  # sleep in seconds  \n",
    "    \n",
    "s.close()"
   ]
  },
  {
   "cell_type": "code",
   "execution_count": null,
   "metadata": {
    "collapsed": true
   },
   "outputs": [],
   "source": []
  }
 ],
 "metadata": {
  "kernelspec": {
   "display_name": "Python 3",
   "language": "python",
   "name": "python3"
  },
  "language_info": {
   "codemirror_mode": {
    "name": "ipython",
    "version": 3
   },
   "file_extension": ".py",
   "mimetype": "text/x-python",
   "name": "python",
   "nbconvert_exporter": "python",
   "pygments_lexer": "ipython3",
   "version": "3.6.0"
  }
 },
 "nbformat": 4,
 "nbformat_minor": 2
}
