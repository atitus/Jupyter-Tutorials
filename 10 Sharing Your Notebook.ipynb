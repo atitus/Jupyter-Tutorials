{
 "cells": [
  {
   "cell_type": "markdown",
   "metadata": {},
   "source": [
    "# Sharing Your Notebook"
   ]
  },
  {
   "cell_type": "markdown",
   "metadata": {},
   "source": [
    "To run the code in a Jupyter Notebook, one must open it in Jupyter. However, a notebook can be viewed as a static web page with no live code using nbviewer.\n",
    "\n",
    "Jupyter Notebooks can also be converted to other formats including: pdf, LaTeX, HTML, and markdown. Of course, the result will be static and code blocks will not be runnable."
   ]
  },
  {
   "cell_type": "markdown",
   "metadata": {},
   "source": [
    "## Downloading a Notebook Running on a Remote Server"
   ]
  },
  {
   "cell_type": "markdown",
   "metadata": {
    "collapsed": true
   },
   "source": [
    "If you are running a notebook served by Jupyter on a remote computer, you may want to download it locally. You can download your notebook as a Jupyter file by selecting **File->Download As** and select *Notebook (.ipynb)*.\n",
    "\n",
    "![download](10-files/download.png)"
   ]
  },
  {
   "cell_type": "markdown",
   "metadata": {},
   "source": [
    "## Exporting to Other Formats\n",
    "\n",
    "You can export your notebook to another by selecting the menu **File->Download As** and then selecting the file format you wish. \n",
    "\n",
    "Note that converting to a format other than Notebook or HTML requires `pandoc` and `XeLaTeX`.  although Jupyter uses LaTeX to produce the pdf. If you want to convert to LaTeX, you can use the command line tool [nbconvert](https://nbconvert.readthedocs.io/en/stable/)."
   ]
  },
  {
   "cell_type": "markdown",
   "metadata": {},
   "source": [
    "## Gist"
   ]
  },
  {
   "cell_type": "markdown",
   "metadata": {},
   "source": [
    "Go to [gist.github.com](http://gist.github.com/).  Drag your notebook file into the window, and click on either **Create secret gist** or **Create public gist**.  Note that either way, secret or public, your file will be public!  The **Create secret gist** button merely means that another person cannot find it using a search engine."
   ]
  },
  {
   "cell_type": "markdown",
   "metadata": {},
   "source": [
    "## nbviewer"
   ]
  },
  {
   "cell_type": "markdown",
   "metadata": {},
   "source": [
    "If you used gist, then GitHub created a url for your notebook.  Copy the URL and paste it into [nbviewer](http://nbviewer.ipython.org/). This generates a public URL for sharing a downloadable notebook.\n",
    "\n",
    "You can use [nbviewer](http://nbviewer.ipython.org/) for any Jupyter file that is on a server. Just copy the file's URL to nbviewer. Then take the URL returned by nbviewer and provide this link to your students and others so they can view and download the notebook."
   ]
  },
  {
   "cell_type": "markdown",
   "metadata": {
    "collapsed": true
   },
   "source": [
    "## Trinket"
   ]
  },
  {
   "cell_type": "markdown",
   "metadata": {},
   "source": [
    "At [Trinket.io](https://trinket.io/), you can create your own \"course.\"  Drag and drop your ipynb file into a page in your course. Trinket automatically embeds the file "
   ]
  },
  {
   "cell_type": "markdown",
   "metadata": {},
   "source": [
    "## Binder\n",
    "\n",
    "At [mybinder.org](http://mybinder.org/), you can run a Jupyter notebook on a cloud server without installing it locally. You upload a github repository with notebooks. Here are some examples:\n",
    "\n",
    "- [Jupyter VPython demos](http://mybinder.org/repo/BruceSherwood/vpython-jupyter)\n",
    "- [TIDES Project](http://mybinder.org/repo/BrynMawrCollege/TIDES)"
   ]
  },
  {
   "cell_type": "code",
   "execution_count": null,
   "metadata": {
    "collapsed": true
   },
   "outputs": [],
   "source": []
  }
 ],
 "metadata": {
  "kernelspec": {
   "display_name": "Python 3",
   "language": "python",
   "name": "python3"
  },
  "language_info": {
   "codemirror_mode": {
    "name": "ipython",
    "version": 3
   },
   "file_extension": ".py",
   "mimetype": "text/x-python",
   "name": "python",
   "nbconvert_exporter": "python",
   "pygments_lexer": "ipython3",
   "version": "3.6.0"
  }
 },
 "nbformat": 4,
 "nbformat_minor": 0
}
