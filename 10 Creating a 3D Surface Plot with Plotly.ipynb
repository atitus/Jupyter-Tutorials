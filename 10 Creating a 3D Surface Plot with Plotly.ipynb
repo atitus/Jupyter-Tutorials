{
 "cells": [
  {
   "cell_type": "markdown",
   "metadata": {},
   "source": [
    "# Teaching Professional Computational Modeling Skills with Jupyter\n",
    "\n",
    "## Aaron Titus, High Point University\n"
   ]
  },
  {
   "cell_type": "markdown",
   "metadata": {},
   "source": [
    "# Introduction\n",
    "\n",
    "The purpose of this tutorial is to introduce you to Jupyter Notebook. \n",
    "\n",
    "Jupyter Notebook (formerly called iPython Notebook) is a web application (front-end) to create and share documents that contain live code, visualizations, and marked-up text and equations. Teachers can write tutorials, and students can write professional, interactive reports. Accessible to students and scalable to professionals, Jupyter Notebook is ideal for teaching computational modeling, data visualization, collaborative computing, and reporting."
   ]
  },
  {
   "cell_type": "markdown",
   "metadata": {},
   "source": [
    "# Creating a 3D Surface Plot with Plotly\n",
    "\n",
    "## Import Packages"
   ]
  },
  {
   "cell_type": "code",
   "execution_count": 1,
   "metadata": {
    "collapsed": false
   },
   "outputs": [],
   "source": [
    "import plotly.plotly as py\n",
    "import plotly.graph_objs as go\n",
    "import plotly.tools as tls\n",
    "import numpy as np\n",
    "from math import *\n",
    "import pandas as pd\n",
    "\n",
    "username = tls.get_credentials_file()['username']\n",
    "api_key = tls.get_credentials_file()['api_key']\n",
    "py.sign_in(username, api_key)\n"
   ]
  },
  {
   "cell_type": "markdown",
   "metadata": {},
   "source": [
    "# Use pandas to read data from a text file"
   ]
  },
  {
   "cell_type": "code",
   "execution_count": 2,
   "metadata": {
    "collapsed": false
   },
   "outputs": [],
   "source": [
    "# Read data file and define dataframe object (df for dataframe)\n",
    "df_all = pd.read_table(\"electrophoresis-data.txt\")"
   ]
  },
  {
   "cell_type": "code",
   "execution_count": 3,
   "metadata": {
    "collapsed": false
   },
   "outputs": [
    {
     "data": {
      "text/html": [
       "<div>\n",
       "<table border=\"1\" class=\"dataframe\">\n",
       "  <thead>\n",
       "    <tr style=\"text-align: right;\">\n",
       "      <th></th>\n",
       "      <th>x (cm)</th>\n",
       "      <th>y (cm)</th>\n",
       "      <th>V (volts)</th>\n",
       "    </tr>\n",
       "  </thead>\n",
       "  <tbody>\n",
       "    <tr>\n",
       "      <th>0</th>\n",
       "      <td>0.0</td>\n",
       "      <td>0.0</td>\n",
       "      <td>30.2</td>\n",
       "    </tr>\n",
       "    <tr>\n",
       "      <th>1</th>\n",
       "      <td>0.5</td>\n",
       "      <td>0.0</td>\n",
       "      <td>30.4</td>\n",
       "    </tr>\n",
       "    <tr>\n",
       "      <th>2</th>\n",
       "      <td>1.0</td>\n",
       "      <td>0.0</td>\n",
       "      <td>30.2</td>\n",
       "    </tr>\n",
       "    <tr>\n",
       "      <th>3</th>\n",
       "      <td>1.5</td>\n",
       "      <td>0.0</td>\n",
       "      <td>30.2</td>\n",
       "    </tr>\n",
       "    <tr>\n",
       "      <th>4</th>\n",
       "      <td>2.0</td>\n",
       "      <td>0.0</td>\n",
       "      <td>30.1</td>\n",
       "    </tr>\n",
       "  </tbody>\n",
       "</table>\n",
       "</div>"
      ],
      "text/plain": [
       "   x (cm)  y (cm)  V (volts)\n",
       "0     0.0     0.0       30.2\n",
       "1     0.5     0.0       30.4\n",
       "2     1.0     0.0       30.2\n",
       "3     1.5     0.0       30.2\n",
       "4     2.0     0.0       30.1"
      ]
     },
     "execution_count": 3,
     "metadata": {},
     "output_type": "execute_result"
    }
   ],
   "source": [
    "#print first five rows of data with the header\n",
    "df_all.head()"
   ]
  },
  {
   "cell_type": "code",
   "execution_count": 4,
   "metadata": {
    "collapsed": true
   },
   "outputs": [],
   "source": [
    "# Column heading full names\n",
    "data_labels= [\n",
    "    'x (cm)',\n",
    "    'y (cm)',\n",
    "    'Potential (V)'\n",
    "]"
   ]
  },
  {
   "cell_type": "code",
   "execution_count": 5,
   "metadata": {
    "collapsed": false
   },
   "outputs": [],
   "source": [
    "#rows, columns of data table\n",
    "df_all.shape\n",
    "\n",
    "#create 1-D arrays\n",
    "xarray = np.array(df_all['x (cm)'].tolist()) #create array\n",
    "yarray = np.array(df_all['y (cm)'].tolist()) #create array\n",
    "Varray = np.array(df_all['V (volts)'].tolist()) #create array"
   ]
  },
  {
   "cell_type": "markdown",
   "metadata": {},
   "source": [
    "## Create Plotly Graph\n",
    "\n",
    "In this case, it is a scatter plot."
   ]
  },
  {
   "cell_type": "code",
   "execution_count": 20,
   "metadata": {
    "collapsed": false
   },
   "outputs": [],
   "source": [
    "trace1 = go.Scatter3d(\n",
    "    x=xarray,\n",
    "    y=yarray,\n",
    "    z=Varray,\n",
    "    mode=\"markers\",\n",
    "    marker=dict(\n",
    "        symbol=\"circle\",\n",
    "        size=2,\n",
    "        color=\"red\"\n",
    "    )\n",
    ")\n",
    "\n",
    "data = [trace1]"
   ]
  },
  {
   "cell_type": "code",
   "execution_count": 18,
   "metadata": {
    "collapsed": false
   },
   "outputs": [],
   "source": [
    "width = 500   # plot width \n",
    "height = 600  # plot height\n",
    "\n",
    "title = \"V (x,y) for Gel Electrophoresis Apparatus\"                # plot's title\n",
    "\n",
    "layout = go.Layout(\n",
    "    title=title,  # set plot's title\n",
    "    font=go.Font(\n",
    "        family=\"Droid Sans, sans-serif\",\n",
    "    ),\n",
    "    xaxis=go.XAxis(\n",
    "        title='x (cm)',  # x-axis title\n",
    "    ),\n",
    "    yaxis=go.YAxis(\n",
    "        title='y (cm)', # y-axis title\n",
    "    ),\n",
    "    height=height,   # plot's height in pixels \n",
    "    width=width      # plot's width in pixels\n",
    ")"
   ]
  },
  {
   "cell_type": "code",
   "execution_count": 19,
   "metadata": {
    "collapsed": false
   },
   "outputs": [
    {
     "data": {
      "text/html": [
       "<iframe id=\"igraph\" scrolling=\"no\" style=\"border:none;\" seamless=\"seamless\" src=\"https://plot.ly/~hpuphysics/168.embed\" height=\"600px\" width=\"500px\"></iframe>"
      ],
      "text/plain": [
       "<plotly.tools.PlotlyDisplay object>"
      ]
     },
     "execution_count": 19,
     "metadata": {},
     "output_type": "execute_result"
    }
   ],
   "source": [
    "# Make a figure object\n",
    "fig = go.Figure(data=data, layout=layout)\n",
    "\n",
    "# (@) Send figure object to Plotly, show result in notebook\n",
    "py.iplot(fig, filename='V (x,y) for Gel Electrophoresis Apparatus', width=width, height=height)"
   ]
  },
  {
   "cell_type": "code",
   "execution_count": null,
   "metadata": {
    "collapsed": true
   },
   "outputs": [],
   "source": []
  }
 ],
 "metadata": {
  "kernelspec": {
   "display_name": "Python 3",
   "language": "python",
   "name": "python3"
  },
  "language_info": {
   "codemirror_mode": {
    "name": "ipython",
    "version": 3
   },
   "file_extension": ".py",
   "mimetype": "text/x-python",
   "name": "python",
   "nbconvert_exporter": "python",
   "pygments_lexer": "ipython3",
   "version": "3.6.0"
  }
 },
 "nbformat": 4,
 "nbformat_minor": 2
}
