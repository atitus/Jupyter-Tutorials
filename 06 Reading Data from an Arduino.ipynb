{
 "cells": [
  {
   "cell_type": "markdown",
   "metadata": {},
   "source": [
    "# Reading Data from an Arduino\n",
    "\n",
    "In this tutorial, we will read and graph analog data from an Arduino. The package ``pyserial`` is used for serial communication with the Arduino.\n",
    "\n",
    "I have chosen to write the Arduino program such that it waits and listens to the serial port. When the Python program sends a character to the Arduino, the Arduino responds with a single data point."
   ]
  },
  {
   "cell_type": "markdown",
   "metadata": {},
   "source": [
    "## Apparatus\n",
    "\n",
    "A joystick is connected to an arduino, with the up-down (UD) potentiometer of the Arduino connected to the A0 input of the Arduino and the left-right (LR) potentiometer of the Arduino connect to the A1 input of the Arduino. (The picture below also shows a push-button switch, but it's not used in the Arduino program.)\n",
    "\n",
    "<img src=\"06-files/arduino.jpg\" width=200>"
   ]
  },
  {
   "cell_type": "markdown",
   "metadata": {
    "collapsed": false
   },
   "source": [
    "## Arduino Program\n",
    "\n",
    "Here is the program running on the Arduino. It listens for a character (from Python) and responds with the joystick voltage values for LR and UD.\n",
    "\n",
    "```arduino\n",
    "#define UD A0\n",
    "#define LR A1\n",
    "boolean done = false;\n",
    "int N; // number of measurements to make but one measurement is always returned in this program\n",
    "int LRvali; // initial LR value\n",
    "int UDvali; // initial UD value\n",
    "int LRval; //  LR value\n",
    "int UDval; //  UD value\n",
    "\n",
    "\n",
    "\n",
    "void setup() {\n",
    "  pinMode(13, OUTPUT);\n",
    "  Serial.begin(9600);\n",
    "  digitalWrite(13, LOW);   // turn the LED off\n",
    "  LRvali = analogRead(LR);\n",
    "  UDvali = analogRead(UD);\n",
    "}\n",
    "\n",
    "void loop() {\n",
    "    \tdone = false;\n",
    "    \n",
    "    \t// Check input on serial line.\n",
    "    \twhile (!done) {\n",
    "        //listen to Serial input\n",
    "    \t\tif (Serial.available()) {\t// Something is in the buffer\n",
    "    \t\t\tN = Serial.read();\t// so get the number byte\n",
    "    \t\t\tdone = true;\n",
    "    \t\t}\n",
    "    \t}\n",
    "\n",
    "      // get joystick values  \n",
    "      LRval = analogRead(LR);\n",
    "      UDval = analogRead(UD);\n",
    "\n",
    "      // write joystick values\n",
    "      Serial.print(LRval, DEC);\n",
    "      Serial.print('\\t');\n",
    "      Serial.print(UDval, DEC);\n",
    "      Serial.print('\\n');\n",
    "}\n",
    "```"
   ]
  },
  {
   "cell_type": "markdown",
   "metadata": {
    "collapsed": false
   },
   "source": [
    "## Set Up Plotly for Streaming Data\n",
    "\n",
    "In this example I will stream data to plot.ly in realtime. See a previous tutorial on setting up Plotly for streaming."
   ]
  },
  {
   "cell_type": "code",
   "execution_count": 1,
   "metadata": {
    "collapsed": true
   },
   "outputs": [],
   "source": [
    "#for graphing\n",
    "import plotly.plotly as py  \n",
    "import plotly.tools as tls   \n",
    "import plotly.graph_objs as go\n",
    "\n",
    "#for serial communication and time\n",
    "import serial, time"
   ]
  },
  {
   "cell_type": "code",
   "execution_count": 2,
   "metadata": {
    "collapsed": true
   },
   "outputs": [],
   "source": [
    "# Get stream id from stream id list \n",
    "stream_ids = tls.get_credentials_file()['stream_ids']\n",
    "stream_id = stream_ids[0]\n",
    "\n",
    "# Make instance of stream id object \n",
    "stream_1 = go.Stream(\n",
    "    token=stream_id  # link stream id to 'token' key\n",
    ")\n",
    "\n",
    "# Initialize trace of streaming plot by embedding the unique stream_id\n",
    "trace1 = go.Scatter(\n",
    "    x=[],\n",
    "    y=[],\n",
    "    mode='lines+markers',\n",
    "    stream=stream_1         # (!) embed stream id, 1 per trace\n",
    ")\n",
    "\n",
    "data = go.Data([trace1])\n",
    "\n",
    "# Add title to layout object\n",
    "layout = go.Layout(title='UD Voltage')\n",
    "\n",
    "# Make a figure object\n",
    "fig = go.Figure(data=data, layout=layout)\n",
    "\n",
    "# Send fig to Plotly, initialize streaming plot, open new tab\n",
    "py.iplot(fig, filename='Joystick UD Voltage as a Function of Time')\n",
    "\n",
    "\n",
    "# We will provide the stream link object the same token that's associated with the trace we wish to stream to\n",
    "s = py.Stream(stream_id)\n",
    "\n",
    "# We then open a connection\n",
    "s.open()"
   ]
  },
  {
   "cell_type": "markdown",
   "metadata": {},
   "source": [
    "## Get Data from the Arduino\n",
    "\n",
    "The purpose of this function is to get data from the Arduino. When called, it writes a byte to the Arduino, and then reads the response from the Arduino. In this case, the Arduino is writes a single tab-delimited measurement for the LR analog voltage and UD analog voltage.\n",
    "\n",
    "The function returns a list with the single data point for LR and UD voltage."
   ]
  },
  {
   "cell_type": "code",
   "execution_count": 3,
   "metadata": {
    "collapsed": false
   },
   "outputs": [],
   "source": [
    "def getData(s):\n",
    "    ser.write(bytes(1))\n",
    "    line = ser.readline()\n",
    "    data = line.split()\n",
    "    LR = int(data[0])\n",
    "    UD = int(data[1])\n",
    "    return [LR,UD]"
   ]
  },
  {
   "cell_type": "markdown",
   "metadata": {},
   "source": [
    "## Initialize Serial Communication"
   ]
  },
  {
   "cell_type": "markdown",
   "metadata": {},
   "source": [
    "Set the baud rate and port. It is easiest to get the port from the Arduino software you used when you downloaded the Arduino program. For faster data retrieval, you will have to increase the baud rate."
   ]
  },
  {
   "cell_type": "code",
   "execution_count": 4,
   "metadata": {
    "collapsed": false
   },
   "outputs": [],
   "source": [
    "baud=9600 #baud rate (bits per second.)\n",
    "TO=5 #timeout in sec\n",
    "\n",
    "#arduino 1\n",
    "port = '/dev/cu.usbmodem1411'\n",
    "ser = serial.Serial(port, baud, timeout=TO)\n",
    "\n",
    "#this delay seems to help\n",
    "time.sleep(2)     #2ms delay"
   ]
  },
  {
   "cell_type": "markdown",
   "metadata": {
    "collapsed": true
   },
   "source": [
    "## Read and Graph Data\n",
    "\n",
    "In a loop, call the `getData()` function and plot the results in Plotly."
   ]
  },
  {
   "cell_type": "code",
   "execution_count": 5,
   "metadata": {
    "collapsed": false
   },
   "outputs": [
    {
     "ename": "KeyboardInterrupt",
     "evalue": "",
     "output_type": "error",
     "traceback": [
      "\u001b[0;31m---------------------------------------------------------------------------\u001b[0m",
      "\u001b[0;31mKeyboardInterrupt\u001b[0m                         Traceback (most recent call last)",
      "\u001b[0;32m<ipython-input-5-b1164e2a41b9>\u001b[0m in \u001b[0;36m<module>\u001b[0;34m()\u001b[0m\n\u001b[1;32m     15\u001b[0m     \u001b[0;31m#     write lists to overwrite existing data on plot\u001b[0m\u001b[0;34m\u001b[0m\u001b[0;34m\u001b[0m\u001b[0m\n\u001b[1;32m     16\u001b[0m \u001b[0;34m\u001b[0m\u001b[0m\n\u001b[0;32m---> 17\u001b[0;31m     \u001b[0mtime\u001b[0m\u001b[0;34m.\u001b[0m\u001b[0msleep\u001b[0m\u001b[0;34m(\u001b[0m\u001b[0;36m0.1\u001b[0m\u001b[0;34m)\u001b[0m  \u001b[0;31m# sleep in seconds\u001b[0m\u001b[0;34m\u001b[0m\u001b[0m\n\u001b[0m\u001b[1;32m     18\u001b[0m \u001b[0;34m\u001b[0m\u001b[0m\n\u001b[1;32m     19\u001b[0m \u001b[0ms\u001b[0m\u001b[0;34m.\u001b[0m\u001b[0mclose\u001b[0m\u001b[0;34m(\u001b[0m\u001b[0;34m)\u001b[0m\u001b[0;34m\u001b[0m\u001b[0m\n",
      "\u001b[0;31mKeyboardInterrupt\u001b[0m: "
     ]
    }
   ],
   "source": [
    "start=time.time()\n",
    "while True:\n",
    "    results=getData(ser)  #gets result from arduino[1] \n",
    "\n",
    "    # Current time on x-axis, random numbers on y-axis\n",
    "    x = time.time()-start\n",
    "    y = results[1]\n",
    "    \n",
    "#    print(x,y)\n",
    "\n",
    "    # Send data to your plot\n",
    "    s.write(dict(x=x, y=y))\n",
    "\n",
    "    #     Write numbers to stream to append current data on plot,\n",
    "    #     write lists to overwrite existing data on plot\n",
    "\n",
    "    time.sleep(0.1)  # sleep in seconds  \n",
    "    \n",
    "s.close()"
   ]
  },
  {
   "cell_type": "code",
   "execution_count": null,
   "metadata": {
    "collapsed": true
   },
   "outputs": [],
   "source": []
  }
 ],
 "metadata": {
  "kernelspec": {
   "display_name": "Python 3",
   "language": "python",
   "name": "python3"
  },
  "language_info": {
   "codemirror_mode": {
    "name": "ipython",
    "version": 3
   },
   "file_extension": ".py",
   "mimetype": "text/x-python",
   "name": "python",
   "nbconvert_exporter": "python",
   "pygments_lexer": "ipython3",
   "version": "3.6.0"
  }
 },
 "nbformat": 4,
 "nbformat_minor": 2
}
