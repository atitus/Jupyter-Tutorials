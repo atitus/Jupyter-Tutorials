{
 "cells": [
  {
   "cell_type": "markdown",
   "metadata": {},
   "source": [
    "# Reading and Graphing Data from a File"
   ]
  },
  {
   "cell_type": "markdown",
   "metadata": {},
   "source": [
    "In [03 Graphing Data](03%20Graphing%20Data%20with%20Matplotlib.ipynb) we graphed a string of tab-delimted data (presumably copied from another file or program like Logger Pro, Tracker, or Excel perhaps).\n",
    "\n",
    "In this tutorial, we will read and graph data from a file using two different packages:\n",
    "\n",
    "1. [CSV](https://docs.python.org/3.6/library/csv.html)\n",
    "2. [pandas](http://pandas.pydata.org/)"
   ]
  },
  {
   "cell_type": "markdown",
   "metadata": {
    "collapsed": true
   },
   "source": [
    "## Using the CSV package\n",
    "\n",
    "The `csv` package is used to read and write tabular data.\n",
    "\n",
    "First, import packages and use the matplotlib magic command to display graphs in the browser."
   ]
  },
  {
   "cell_type": "code",
   "execution_count": 1,
   "metadata": {
    "collapsed": true
   },
   "outputs": [],
   "source": [
    "import csv #used for reading and parsing data from a text file"
   ]
  },
  {
   "cell_type": "code",
   "execution_count": 26,
   "metadata": {
    "collapsed": true
   },
   "outputs": [],
   "source": [
    "import matplotlib.pyplot as plt #used for graphing\n",
    "import numpy as np #used for arrays"
   ]
  },
  {
   "cell_type": "code",
   "execution_count": 3,
   "metadata": {
    "collapsed": true
   },
   "outputs": [],
   "source": [
    "#show graphs inline\n",
    "%matplotlib inline"
   ]
  },
  {
   "cell_type": "markdown",
   "metadata": {},
   "source": [
    "### Read Data\n",
    "\n",
    "The data in this example is from Young's Double Sit experiment. The data file is a tab-delimited list of photodiode voltages and x-positions of the photodiode."
   ]
  },
  {
   "cell_type": "code",
   "execution_count": 8,
   "metadata": {},
   "outputs": [
    {
     "name": "stdout",
     "output_type": "stream",
     "text": [
      "Number of Data Points:  57\n"
     ]
    }
   ],
   "source": [
    "#open and read the file\n",
    "filename='04-files/double-slit-data.txt'\n",
    "datafile = csv.reader(open(filename, 'r'), delimiter='\\t')\n",
    "\n",
    "rows=[]\n",
    "voltages=[] #list of photodiode voltages\n",
    "xpositions=[] #list of x positions\n",
    "for row in datafile:\n",
    "    rows.append(row)\n",
    "    xpositions.append(float(row[0]))\n",
    "    voltages.append(float(row[1]))\n",
    "print(\"Number of Data Points: \",len(voltages))"
   ]
  },
  {
   "cell_type": "markdown",
   "metadata": {},
   "source": [
    "### Graph Data"
   ]
  },
  {
   "cell_type": "code",
   "execution_count": 7,
   "metadata": {},
   "outputs": [
    {
     "data": {
      "image/png": "[encoded data removed]",
      "text/plain": [
       "<matplotlib.figure.Figure at 0x10aad3048>"
      ]
     },
     "metadata": {},
     "output_type": "display_data"
    }
   ],
   "source": [
    "#plot graph\n",
    "fig1 = plt.figure()\n",
    "plt.title('Voltage vs. x-position')\n",
    "plt.xlabel('x (m)')\n",
    "plt.ylabel('V (volt)')\n",
    "plt.plot(xpositions,voltages,'b-')\n",
    "plt.show()"
   ]
  },
  {
   "cell_type": "markdown",
   "metadata": {},
   "source": [
    "## Using pandas to read data from a text file\n",
    "\n",
    "The `pandas` package is a Python tool for data structures and analysis. Its a common package for data science of various kinds. In this case, we will merely convert each column to an array and plot the arrays."
   ]
  },
  {
   "cell_type": "code",
   "execution_count": 12,
   "metadata": {
    "collapsed": true
   },
   "outputs": [],
   "source": [
    "import pandas as pd"
   ]
  },
  {
   "cell_type": "code",
   "execution_count": 16,
   "metadata": {},
   "outputs": [],
   "source": [
    "# Read the data file and define a dataframe object (df for dataframe)\n",
    "df_all = pd.read_table('04-files/double-slit-data-with-header.txt')"
   ]
  },
  {
   "cell_type": "code",
   "execution_count": 17,
   "metadata": {},
   "outputs": [
    {
     "data": {
      "text/html": [
       "<div>\n",
       "<table border=\"1\" class=\"dataframe\">\n",
       "  <thead>\n",
       "    <tr style=\"text-align: right;\">\n",
       "      <th></th>\n",
       "      <th>x (m)</th>\n",
       "      <th>V (volts)</th>\n",
       "    </tr>\n",
       "  </thead>\n",
       "  <tbody>\n",
       "    <tr>\n",
       "      <th>0</th>\n",
       "      <td>-2.6</td>\n",
       "      <td>0.08</td>\n",
       "    </tr>\n",
       "    <tr>\n",
       "      <th>1</th>\n",
       "      <td>-2.5</td>\n",
       "      <td>0.11</td>\n",
       "    </tr>\n",
       "    <tr>\n",
       "      <th>2</th>\n",
       "      <td>-2.4</td>\n",
       "      <td>0.18</td>\n",
       "    </tr>\n",
       "    <tr>\n",
       "      <th>3</th>\n",
       "      <td>-2.3</td>\n",
       "      <td>0.23</td>\n",
       "    </tr>\n",
       "    <tr>\n",
       "      <th>4</th>\n",
       "      <td>-2.2</td>\n",
       "      <td>0.29</td>\n",
       "    </tr>\n",
       "  </tbody>\n",
       "</table>\n",
       "</div>"
      ],
      "text/plain": [
       "   x (m)  V (volts)\n",
       "0   -2.6       0.08\n",
       "1   -2.5       0.11\n",
       "2   -2.4       0.18\n",
       "3   -2.3       0.23\n",
       "4   -2.2       0.29"
      ]
     },
     "execution_count": 17,
     "metadata": {},
     "output_type": "execute_result"
    }
   ],
   "source": [
    "#print first five rows of data with the header\n",
    "df_all.head()"
   ]
  },
  {
   "cell_type": "code",
   "execution_count": 25,
   "metadata": {},
   "outputs": [
    {
     "data": {
      "text/plain": [
       "(57, 2)"
      ]
     },
     "execution_count": 25,
     "metadata": {},
     "output_type": "execute_result"
    }
   ],
   "source": [
    "#print the dimensions of the data table\n",
    "df_all.shape"
   ]
  },
  {
   "cell_type": "code",
   "execution_count": 20,
   "metadata": {},
   "outputs": [
    {
     "data": {
      "text/plain": [
       "(57,)"
      ]
     },
     "execution_count": 20,
     "metadata": {},
     "output_type": "execute_result"
    }
   ],
   "source": [
    "#create an array of voltage data for all rows\n",
    "Varray = np.array(df_all['V (volts)'].tolist()) #create array\n",
    "Varray.shape #print the dimensions of the array\n"
   ]
  },
  {
   "cell_type": "code",
   "execution_count": 22,
   "metadata": {},
   "outputs": [
    {
     "data": {
      "text/plain": [
       "(57,)"
      ]
     },
     "execution_count": 22,
     "metadata": {},
     "output_type": "execute_result"
    }
   ],
   "source": [
    "#create an array of position data for all rows\n",
    "xarray = np.array(df_all['x (m)'].tolist()) #create array\n",
    "xarray.shape #print the dimensions of the array"
   ]
  },
  {
   "cell_type": "code",
   "execution_count": 23,
   "metadata": {},
   "outputs": [
    {
     "data": {
      "image/png": "[encoded data removed]",
      "text/plain": [
       "<matplotlib.figure.Figure at 0x10cdf24e0>"
      ]
     },
     "metadata": {},
     "output_type": "display_data"
    }
   ],
   "source": [
    "#plot graph\n",
    "fig2 = plt.figure()\n",
    "plt.title('Voltage vs. x-position')\n",
    "plt.xlabel('x (m)')\n",
    "plt.ylabel('V (volt)')\n",
    "plt.plot(xarray,Varray,'b-')\n",
    "plt.show()"
   ]
  },
  {
   "cell_type": "code",
   "execution_count": null,
   "metadata": {
    "collapsed": true
   },
   "outputs": [],
   "source": []
  }
 ],
 "metadata": {
  "kernelspec": {
   "display_name": "Python 3",
   "language": "python",
   "name": "python3"
  },
  "language_info": {
   "codemirror_mode": {
    "name": "ipython",
    "version": 3
   },
   "file_extension": ".py",
   "mimetype": "text/x-python",
   "name": "python",
   "nbconvert_exporter": "python",
   "pygments_lexer": "ipython3",
   "version": "3.6.1"
  }
 },
 "nbformat": 4,
 "nbformat_minor": 2
}
